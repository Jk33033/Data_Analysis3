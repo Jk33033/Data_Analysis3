{
 "cells": [
  {
   "cell_type": "code",
   "execution_count": 7,
   "metadata": {},
   "outputs": [],
   "source": [
    "import os\n",
    "import pandas as pd\n",
    "import numpy as np\n",
    "import sys\n",
    "import patsy\n",
    "import statsmodels.api as sm\n",
    "import statsmodels.formula.api as smf\n",
    "from sklearn.linear_model import LinearRegression, LogisticRegression, LogisticRegressionCV\n",
    "from sklearn.model_selection import train_test_split, GridSearchCV, KFold\n",
    "import sklearn.metrics as metrics\n",
    "from sklearn.metrics import brier_score_loss, roc_curve, auc, confusion_matrix, roc_auc_score, mean_squared_error\n",
    "from sklearn.ensemble import RandomForestClassifier\n",
    "from plotnine import *\n",
    "import seaborn as sns\n",
    "import matplotlib.pyplot as plt\n",
    "from sklearn.model_selection import train_test_split\n",
    "from sklearn.preprocessing import StandardScaler\n",
    "from stargazer import stargazer\n",
    "from statsmodels.tools.eval_measures import mse,rmse\n",
    "import matplotlib.pyplot as plt\n",
    "from mizani.formatters import percent_format\n",
    "\n",
    "import warnings\n",
    "warnings.filterwarnings('ignore')\n"
   ]
  },
  {
   "cell_type": "code",
   "execution_count": 222,
   "metadata": {},
   "outputs": [],
   "source": [
    "data = pd.read_csv(\"https://raw.githubusercontent.com/Jk33033/Data_Analysis3/main/assignment2/listings.csv\")"
   ]
  },
  {
   "cell_type": "code",
   "execution_count": 9,
   "metadata": {},
   "outputs": [
    {
     "data": {
      "text/html": [
       "<div>\n",
       "<style scoped>\n",
       "    .dataframe tbody tr th:only-of-type {\n",
       "        vertical-align: middle;\n",
       "    }\n",
       "\n",
       "    .dataframe tbody tr th {\n",
       "        vertical-align: top;\n",
       "    }\n",
       "\n",
       "    .dataframe thead th {\n",
       "        text-align: right;\n",
       "    }\n",
       "</style>\n",
       "<table border=\"1\" class=\"dataframe\">\n",
       "  <thead>\n",
       "    <tr style=\"text-align: right;\">\n",
       "      <th></th>\n",
       "      <th>id</th>\n",
       "      <th>scrape_id</th>\n",
       "      <th>description</th>\n",
       "      <th>host_id</th>\n",
       "      <th>host_listings_count</th>\n",
       "      <th>host_total_listings_count</th>\n",
       "      <th>latitude</th>\n",
       "      <th>longitude</th>\n",
       "      <th>accommodates</th>\n",
       "      <th>bathrooms</th>\n",
       "      <th>...</th>\n",
       "      <th>review_scores_cleanliness</th>\n",
       "      <th>review_scores_checkin</th>\n",
       "      <th>review_scores_communication</th>\n",
       "      <th>review_scores_location</th>\n",
       "      <th>review_scores_value</th>\n",
       "      <th>calculated_host_listings_count</th>\n",
       "      <th>calculated_host_listings_count_entire_homes</th>\n",
       "      <th>calculated_host_listings_count_private_rooms</th>\n",
       "      <th>calculated_host_listings_count_shared_rooms</th>\n",
       "      <th>reviews_per_month</th>\n",
       "    </tr>\n",
       "  </thead>\n",
       "  <tbody>\n",
       "    <tr>\n",
       "      <th>count</th>\n",
       "      <td>1.360100e+04</td>\n",
       "      <td>1.360100e+04</td>\n",
       "      <td>0.0</td>\n",
       "      <td>1.360100e+04</td>\n",
       "      <td>13601.000000</td>\n",
       "      <td>13601.000000</td>\n",
       "      <td>13601.000000</td>\n",
       "      <td>13601.000000</td>\n",
       "      <td>13601.000000</td>\n",
       "      <td>0.0</td>\n",
       "      <td>...</td>\n",
       "      <td>12107.000000</td>\n",
       "      <td>12107.000000</td>\n",
       "      <td>12107.000000</td>\n",
       "      <td>12106.000000</td>\n",
       "      <td>12106.000000</td>\n",
       "      <td>13601.000000</td>\n",
       "      <td>13601.000000</td>\n",
       "      <td>13601.000000</td>\n",
       "      <td>13601.000000</td>\n",
       "      <td>12088.000000</td>\n",
       "    </tr>\n",
       "    <tr>\n",
       "      <th>mean</th>\n",
       "      <td>3.217099e+17</td>\n",
       "      <td>2.023122e+13</td>\n",
       "      <td>NaN</td>\n",
       "      <td>2.053080e+08</td>\n",
       "      <td>35.036836</td>\n",
       "      <td>53.413867</td>\n",
       "      <td>41.153024</td>\n",
       "      <td>-8.613542</td>\n",
       "      <td>3.644732</td>\n",
       "      <td>NaN</td>\n",
       "      <td>...</td>\n",
       "      <td>4.727194</td>\n",
       "      <td>4.799739</td>\n",
       "      <td>4.794398</td>\n",
       "      <td>4.727122</td>\n",
       "      <td>4.634227</td>\n",
       "      <td>19.767885</td>\n",
       "      <td>17.733770</td>\n",
       "      <td>1.819425</td>\n",
       "      <td>0.162267</td>\n",
       "      <td>1.667862</td>\n",
       "    </tr>\n",
       "    <tr>\n",
       "      <th>std</th>\n",
       "      <td>4.049059e+17</td>\n",
       "      <td>0.000000e+00</td>\n",
       "      <td>NaN</td>\n",
       "      <td>1.803547e+08</td>\n",
       "      <td>111.773227</td>\n",
       "      <td>222.746900</td>\n",
       "      <td>0.067840</td>\n",
       "      <td>0.059958</td>\n",
       "      <td>2.124080</td>\n",
       "      <td>NaN</td>\n",
       "      <td>...</td>\n",
       "      <td>0.371016</td>\n",
       "      <td>0.321503</td>\n",
       "      <td>0.338532</td>\n",
       "      <td>0.327357</td>\n",
       "      <td>0.388097</td>\n",
       "      <td>43.891032</td>\n",
       "      <td>41.638831</td>\n",
       "      <td>4.623776</td>\n",
       "      <td>1.376186</td>\n",
       "      <td>1.604635</td>\n",
       "    </tr>\n",
       "    <tr>\n",
       "      <th>min</th>\n",
       "      <td>4.133900e+04</td>\n",
       "      <td>2.023122e+13</td>\n",
       "      <td>NaN</td>\n",
       "      <td>1.442280e+05</td>\n",
       "      <td>1.000000</td>\n",
       "      <td>1.000000</td>\n",
       "      <td>40.767760</td>\n",
       "      <td>-8.784090</td>\n",
       "      <td>1.000000</td>\n",
       "      <td>NaN</td>\n",
       "      <td>...</td>\n",
       "      <td>1.000000</td>\n",
       "      <td>1.000000</td>\n",
       "      <td>0.000000</td>\n",
       "      <td>1.000000</td>\n",
       "      <td>1.000000</td>\n",
       "      <td>1.000000</td>\n",
       "      <td>0.000000</td>\n",
       "      <td>0.000000</td>\n",
       "      <td>0.000000</td>\n",
       "      <td>0.010000</td>\n",
       "    </tr>\n",
       "    <tr>\n",
       "      <th>25%</th>\n",
       "      <td>2.451509e+07</td>\n",
       "      <td>2.023122e+13</td>\n",
       "      <td>NaN</td>\n",
       "      <td>3.903119e+07</td>\n",
       "      <td>2.000000</td>\n",
       "      <td>2.000000</td>\n",
       "      <td>41.144040</td>\n",
       "      <td>-8.620660</td>\n",
       "      <td>2.000000</td>\n",
       "      <td>NaN</td>\n",
       "      <td>...</td>\n",
       "      <td>4.630000</td>\n",
       "      <td>4.750000</td>\n",
       "      <td>4.740000</td>\n",
       "      <td>4.620000</td>\n",
       "      <td>4.530000</td>\n",
       "      <td>2.000000</td>\n",
       "      <td>1.000000</td>\n",
       "      <td>0.000000</td>\n",
       "      <td>0.000000</td>\n",
       "      <td>0.400000</td>\n",
       "    </tr>\n",
       "    <tr>\n",
       "      <th>50%</th>\n",
       "      <td>4.606103e+07</td>\n",
       "      <td>2.023122e+13</td>\n",
       "      <td>NaN</td>\n",
       "      <td>1.437019e+08</td>\n",
       "      <td>5.000000</td>\n",
       "      <td>6.000000</td>\n",
       "      <td>41.149360</td>\n",
       "      <td>-8.611870</td>\n",
       "      <td>3.000000</td>\n",
       "      <td>NaN</td>\n",
       "      <td>...</td>\n",
       "      <td>4.830000</td>\n",
       "      <td>4.890000</td>\n",
       "      <td>4.890000</td>\n",
       "      <td>4.810000</td>\n",
       "      <td>4.720000</td>\n",
       "      <td>5.000000</td>\n",
       "      <td>3.000000</td>\n",
       "      <td>0.000000</td>\n",
       "      <td>0.000000</td>\n",
       "      <td>1.160000</td>\n",
       "    </tr>\n",
       "    <tr>\n",
       "      <th>75%</th>\n",
       "      <td>7.344801e+17</td>\n",
       "      <td>2.023122e+13</td>\n",
       "      <td>NaN</td>\n",
       "      <td>3.785917e+08</td>\n",
       "      <td>18.000000</td>\n",
       "      <td>21.000000</td>\n",
       "      <td>41.157417</td>\n",
       "      <td>-8.604530</td>\n",
       "      <td>4.000000</td>\n",
       "      <td>NaN</td>\n",
       "      <td>...</td>\n",
       "      <td>4.960000</td>\n",
       "      <td>4.980000</td>\n",
       "      <td>4.990000</td>\n",
       "      <td>4.940000</td>\n",
       "      <td>4.850000</td>\n",
       "      <td>14.000000</td>\n",
       "      <td>11.000000</td>\n",
       "      <td>1.000000</td>\n",
       "      <td>0.000000</td>\n",
       "      <td>2.500000</td>\n",
       "    </tr>\n",
       "    <tr>\n",
       "      <th>max</th>\n",
       "      <td>1.047130e+18</td>\n",
       "      <td>2.023122e+13</td>\n",
       "      <td>NaN</td>\n",
       "      <td>5.511028e+08</td>\n",
       "      <td>2457.000000</td>\n",
       "      <td>5521.000000</td>\n",
       "      <td>41.459634</td>\n",
       "      <td>-8.152370</td>\n",
       "      <td>16.000000</td>\n",
       "      <td>NaN</td>\n",
       "      <td>...</td>\n",
       "      <td>5.000000</td>\n",
       "      <td>5.000000</td>\n",
       "      <td>5.000000</td>\n",
       "      <td>5.000000</td>\n",
       "      <td>5.000000</td>\n",
       "      <td>260.000000</td>\n",
       "      <td>242.000000</td>\n",
       "      <td>37.000000</td>\n",
       "      <td>23.000000</td>\n",
       "      <td>14.790000</td>\n",
       "    </tr>\n",
       "  </tbody>\n",
       "</table>\n",
       "<p>8 rows × 40 columns</p>\n",
       "</div>"
      ],
      "text/plain": [
       "                 id     scrape_id  description       host_id  \\\n",
       "count  1.360100e+04  1.360100e+04          0.0  1.360100e+04   \n",
       "mean   3.217099e+17  2.023122e+13          NaN  2.053080e+08   \n",
       "std    4.049059e+17  0.000000e+00          NaN  1.803547e+08   \n",
       "min    4.133900e+04  2.023122e+13          NaN  1.442280e+05   \n",
       "25%    2.451509e+07  2.023122e+13          NaN  3.903119e+07   \n",
       "50%    4.606103e+07  2.023122e+13          NaN  1.437019e+08   \n",
       "75%    7.344801e+17  2.023122e+13          NaN  3.785917e+08   \n",
       "max    1.047130e+18  2.023122e+13          NaN  5.511028e+08   \n",
       "\n",
       "       host_listings_count  host_total_listings_count      latitude  \\\n",
       "count         13601.000000               13601.000000  13601.000000   \n",
       "mean             35.036836                  53.413867     41.153024   \n",
       "std             111.773227                 222.746900      0.067840   \n",
       "min               1.000000                   1.000000     40.767760   \n",
       "25%               2.000000                   2.000000     41.144040   \n",
       "50%               5.000000                   6.000000     41.149360   \n",
       "75%              18.000000                  21.000000     41.157417   \n",
       "max            2457.000000                5521.000000     41.459634   \n",
       "\n",
       "          longitude  accommodates  bathrooms  ...  review_scores_cleanliness  \\\n",
       "count  13601.000000  13601.000000        0.0  ...               12107.000000   \n",
       "mean      -8.613542      3.644732        NaN  ...                   4.727194   \n",
       "std        0.059958      2.124080        NaN  ...                   0.371016   \n",
       "min       -8.784090      1.000000        NaN  ...                   1.000000   \n",
       "25%       -8.620660      2.000000        NaN  ...                   4.630000   \n",
       "50%       -8.611870      3.000000        NaN  ...                   4.830000   \n",
       "75%       -8.604530      4.000000        NaN  ...                   4.960000   \n",
       "max       -8.152370     16.000000        NaN  ...                   5.000000   \n",
       "\n",
       "       review_scores_checkin  review_scores_communication  \\\n",
       "count           12107.000000                 12107.000000   \n",
       "mean                4.799739                     4.794398   \n",
       "std                 0.321503                     0.338532   \n",
       "min                 1.000000                     0.000000   \n",
       "25%                 4.750000                     4.740000   \n",
       "50%                 4.890000                     4.890000   \n",
       "75%                 4.980000                     4.990000   \n",
       "max                 5.000000                     5.000000   \n",
       "\n",
       "       review_scores_location  review_scores_value  \\\n",
       "count            12106.000000         12106.000000   \n",
       "mean                 4.727122             4.634227   \n",
       "std                  0.327357             0.388097   \n",
       "min                  1.000000             1.000000   \n",
       "25%                  4.620000             4.530000   \n",
       "50%                  4.810000             4.720000   \n",
       "75%                  4.940000             4.850000   \n",
       "max                  5.000000             5.000000   \n",
       "\n",
       "       calculated_host_listings_count  \\\n",
       "count                    13601.000000   \n",
       "mean                        19.767885   \n",
       "std                         43.891032   \n",
       "min                          1.000000   \n",
       "25%                          2.000000   \n",
       "50%                          5.000000   \n",
       "75%                         14.000000   \n",
       "max                        260.000000   \n",
       "\n",
       "       calculated_host_listings_count_entire_homes  \\\n",
       "count                                 13601.000000   \n",
       "mean                                     17.733770   \n",
       "std                                      41.638831   \n",
       "min                                       0.000000   \n",
       "25%                                       1.000000   \n",
       "50%                                       3.000000   \n",
       "75%                                      11.000000   \n",
       "max                                     242.000000   \n",
       "\n",
       "       calculated_host_listings_count_private_rooms  \\\n",
       "count                                  13601.000000   \n",
       "mean                                       1.819425   \n",
       "std                                        4.623776   \n",
       "min                                        0.000000   \n",
       "25%                                        0.000000   \n",
       "50%                                        0.000000   \n",
       "75%                                        1.000000   \n",
       "max                                       37.000000   \n",
       "\n",
       "       calculated_host_listings_count_shared_rooms  reviews_per_month  \n",
       "count                                 13601.000000       12088.000000  \n",
       "mean                                      0.162267           1.667862  \n",
       "std                                       1.376186           1.604635  \n",
       "min                                       0.000000           0.010000  \n",
       "25%                                       0.000000           0.400000  \n",
       "50%                                       0.000000           1.160000  \n",
       "75%                                       0.000000           2.500000  \n",
       "max                                      23.000000          14.790000  \n",
       "\n",
       "[8 rows x 40 columns]"
      ]
     },
     "execution_count": 9,
     "metadata": {},
     "output_type": "execute_result"
    }
   ],
   "source": [
    "data.describe()"
   ]
  },
  {
   "cell_type": "code",
   "execution_count": 10,
   "metadata": {},
   "outputs": [
    {
     "data": {
      "text/html": [
       "<div>\n",
       "<style scoped>\n",
       "    .dataframe tbody tr th:only-of-type {\n",
       "        vertical-align: middle;\n",
       "    }\n",
       "\n",
       "    .dataframe tbody tr th {\n",
       "        vertical-align: top;\n",
       "    }\n",
       "\n",
       "    .dataframe thead th {\n",
       "        text-align: right;\n",
       "    }\n",
       "</style>\n",
       "<table border=\"1\" class=\"dataframe\">\n",
       "  <thead>\n",
       "    <tr style=\"text-align: right;\">\n",
       "      <th></th>\n",
       "      <th>id</th>\n",
       "      <th>listing_url</th>\n",
       "      <th>scrape_id</th>\n",
       "      <th>last_scraped</th>\n",
       "      <th>source</th>\n",
       "      <th>name</th>\n",
       "      <th>description</th>\n",
       "      <th>neighborhood_overview</th>\n",
       "      <th>picture_url</th>\n",
       "      <th>host_id</th>\n",
       "      <th>...</th>\n",
       "      <th>review_scores_communication</th>\n",
       "      <th>review_scores_location</th>\n",
       "      <th>review_scores_value</th>\n",
       "      <th>license</th>\n",
       "      <th>instant_bookable</th>\n",
       "      <th>calculated_host_listings_count</th>\n",
       "      <th>calculated_host_listings_count_entire_homes</th>\n",
       "      <th>calculated_host_listings_count_private_rooms</th>\n",
       "      <th>calculated_host_listings_count_shared_rooms</th>\n",
       "      <th>reviews_per_month</th>\n",
       "    </tr>\n",
       "  </thead>\n",
       "  <tbody>\n",
       "    <tr>\n",
       "      <th>0</th>\n",
       "      <td>41339</td>\n",
       "      <td>https://www.airbnb.com/rooms/41339</td>\n",
       "      <td>20231217045113</td>\n",
       "      <td>2023-12-17</td>\n",
       "      <td>city scrape</td>\n",
       "      <td>Rental unit in Porto · ★4.73 · 1 bedroom · 3 b...</td>\n",
       "      <td>NaN</td>\n",
       "      <td>O apartamento fica perto da Fundação de Serral...</td>\n",
       "      <td>https://a0.muscache.com/pictures/miso/Hosting-...</td>\n",
       "      <td>180050</td>\n",
       "      <td>...</td>\n",
       "      <td>4.82</td>\n",
       "      <td>4.55</td>\n",
       "      <td>4.64</td>\n",
       "      <td>29049/AL</td>\n",
       "      <td>f</td>\n",
       "      <td>1</td>\n",
       "      <td>1</td>\n",
       "      <td>0</td>\n",
       "      <td>0</td>\n",
       "      <td>0.17</td>\n",
       "    </tr>\n",
       "    <tr>\n",
       "      <th>1</th>\n",
       "      <td>55111</td>\n",
       "      <td>https://www.airbnb.com/rooms/55111</td>\n",
       "      <td>20231217045113</td>\n",
       "      <td>2023-12-17</td>\n",
       "      <td>previous scrape</td>\n",
       "      <td>Rental unit in Paredes Municipality · ★4.79 · ...</td>\n",
       "      <td>NaN</td>\n",
       "      <td>NaN</td>\n",
       "      <td>https://a0.muscache.com/pictures/b3c38006-5fdf...</td>\n",
       "      <td>259711</td>\n",
       "      <td>...</td>\n",
       "      <td>4.89</td>\n",
       "      <td>4.78</td>\n",
       "      <td>4.78</td>\n",
       "      <td>7563/AL</td>\n",
       "      <td>f</td>\n",
       "      <td>3</td>\n",
       "      <td>3</td>\n",
       "      <td>0</td>\n",
       "      <td>0</td>\n",
       "      <td>0.19</td>\n",
       "    </tr>\n",
       "    <tr>\n",
       "      <th>2</th>\n",
       "      <td>73828</td>\n",
       "      <td>https://www.airbnb.com/rooms/73828</td>\n",
       "      <td>20231217045113</td>\n",
       "      <td>2023-12-17</td>\n",
       "      <td>previous scrape</td>\n",
       "      <td>Rental unit in Estação · ★4.86 · 2 bedrooms · ...</td>\n",
       "      <td>NaN</td>\n",
       "      <td>NaN</td>\n",
       "      <td>https://a0.muscache.com/pictures/ffb19299-425c...</td>\n",
       "      <td>259711</td>\n",
       "      <td>...</td>\n",
       "      <td>5.00</td>\n",
       "      <td>4.93</td>\n",
       "      <td>4.79</td>\n",
       "      <td>7563/AL</td>\n",
       "      <td>f</td>\n",
       "      <td>3</td>\n",
       "      <td>3</td>\n",
       "      <td>0</td>\n",
       "      <td>0</td>\n",
       "      <td>0.13</td>\n",
       "    </tr>\n",
       "    <tr>\n",
       "      <th>3</th>\n",
       "      <td>86388</td>\n",
       "      <td>https://www.airbnb.com/rooms/86388</td>\n",
       "      <td>20231217045113</td>\n",
       "      <td>2023-12-17</td>\n",
       "      <td>city scrape</td>\n",
       "      <td>Rental unit in Porto · ★4.75 · 1 bedroom · 1 b...</td>\n",
       "      <td>NaN</td>\n",
       "      <td>NaN</td>\n",
       "      <td>https://a0.muscache.com/pictures/850099/b80470...</td>\n",
       "      <td>185209</td>\n",
       "      <td>...</td>\n",
       "      <td>4.93</td>\n",
       "      <td>4.89</td>\n",
       "      <td>4.74</td>\n",
       "      <td>6995/AL</td>\n",
       "      <td>f</td>\n",
       "      <td>8</td>\n",
       "      <td>2</td>\n",
       "      <td>6</td>\n",
       "      <td>0</td>\n",
       "      <td>1.63</td>\n",
       "    </tr>\n",
       "    <tr>\n",
       "      <th>4</th>\n",
       "      <td>87873</td>\n",
       "      <td>https://www.airbnb.com/rooms/87873</td>\n",
       "      <td>20231217045113</td>\n",
       "      <td>2023-12-17</td>\n",
       "      <td>city scrape</td>\n",
       "      <td>Rental unit in Porto · ★4.78 · 2 bedrooms · 2 ...</td>\n",
       "      <td>NaN</td>\n",
       "      <td>OPorto Apartment Triplex is located on Rua San...</td>\n",
       "      <td>https://a0.muscache.com/pictures/33686513/c54f...</td>\n",
       "      <td>480980</td>\n",
       "      <td>...</td>\n",
       "      <td>4.94</td>\n",
       "      <td>4.50</td>\n",
       "      <td>4.80</td>\n",
       "      <td>634/AL</td>\n",
       "      <td>f</td>\n",
       "      <td>4</td>\n",
       "      <td>2</td>\n",
       "      <td>2</td>\n",
       "      <td>0</td>\n",
       "      <td>1.69</td>\n",
       "    </tr>\n",
       "  </tbody>\n",
       "</table>\n",
       "<p>5 rows × 75 columns</p>\n",
       "</div>"
      ],
      "text/plain": [
       "      id                         listing_url       scrape_id last_scraped  \\\n",
       "0  41339  https://www.airbnb.com/rooms/41339  20231217045113   2023-12-17   \n",
       "1  55111  https://www.airbnb.com/rooms/55111  20231217045113   2023-12-17   \n",
       "2  73828  https://www.airbnb.com/rooms/73828  20231217045113   2023-12-17   \n",
       "3  86388  https://www.airbnb.com/rooms/86388  20231217045113   2023-12-17   \n",
       "4  87873  https://www.airbnb.com/rooms/87873  20231217045113   2023-12-17   \n",
       "\n",
       "            source                                               name  \\\n",
       "0      city scrape  Rental unit in Porto · ★4.73 · 1 bedroom · 3 b...   \n",
       "1  previous scrape  Rental unit in Paredes Municipality · ★4.79 · ...   \n",
       "2  previous scrape  Rental unit in Estação · ★4.86 · 2 bedrooms · ...   \n",
       "3      city scrape  Rental unit in Porto · ★4.75 · 1 bedroom · 1 b...   \n",
       "4      city scrape  Rental unit in Porto · ★4.78 · 2 bedrooms · 2 ...   \n",
       "\n",
       "   description                              neighborhood_overview  \\\n",
       "0          NaN  O apartamento fica perto da Fundação de Serral...   \n",
       "1          NaN                                                NaN   \n",
       "2          NaN                                                NaN   \n",
       "3          NaN                                                NaN   \n",
       "4          NaN  OPorto Apartment Triplex is located on Rua San...   \n",
       "\n",
       "                                         picture_url  host_id  ...  \\\n",
       "0  https://a0.muscache.com/pictures/miso/Hosting-...   180050  ...   \n",
       "1  https://a0.muscache.com/pictures/b3c38006-5fdf...   259711  ...   \n",
       "2  https://a0.muscache.com/pictures/ffb19299-425c...   259711  ...   \n",
       "3  https://a0.muscache.com/pictures/850099/b80470...   185209  ...   \n",
       "4  https://a0.muscache.com/pictures/33686513/c54f...   480980  ...   \n",
       "\n",
       "  review_scores_communication review_scores_location review_scores_value  \\\n",
       "0                        4.82                   4.55                4.64   \n",
       "1                        4.89                   4.78                4.78   \n",
       "2                        5.00                   4.93                4.79   \n",
       "3                        4.93                   4.89                4.74   \n",
       "4                        4.94                   4.50                4.80   \n",
       "\n",
       "    license instant_bookable calculated_host_listings_count  \\\n",
       "0  29049/AL                f                              1   \n",
       "1   7563/AL                f                              3   \n",
       "2   7563/AL                f                              3   \n",
       "3   6995/AL                f                              8   \n",
       "4    634/AL                f                              4   \n",
       "\n",
       "  calculated_host_listings_count_entire_homes  \\\n",
       "0                                           1   \n",
       "1                                           3   \n",
       "2                                           3   \n",
       "3                                           2   \n",
       "4                                           2   \n",
       "\n",
       "  calculated_host_listings_count_private_rooms  \\\n",
       "0                                            0   \n",
       "1                                            0   \n",
       "2                                            0   \n",
       "3                                            6   \n",
       "4                                            2   \n",
       "\n",
       "  calculated_host_listings_count_shared_rooms reviews_per_month  \n",
       "0                                           0              0.17  \n",
       "1                                           0              0.19  \n",
       "2                                           0              0.13  \n",
       "3                                           0              1.63  \n",
       "4                                           0              1.69  \n",
       "\n",
       "[5 rows x 75 columns]"
      ]
     },
     "execution_count": 10,
     "metadata": {},
     "output_type": "execute_result"
    }
   ],
   "source": [
    "data.head()"
   ]
  },
  {
   "cell_type": "code",
   "execution_count": 11,
   "metadata": {},
   "outputs": [
    {
     "data": {
      "text/plain": [
       "Index(['id', 'listing_url', 'scrape_id', 'last_scraped', 'source', 'name',\n",
       "       'description', 'neighborhood_overview', 'picture_url', 'host_id',\n",
       "       'host_url', 'host_name', 'host_since', 'host_location', 'host_about',\n",
       "       'host_response_time', 'host_response_rate', 'host_acceptance_rate',\n",
       "       'host_is_superhost', 'host_thumbnail_url', 'host_picture_url',\n",
       "       'host_neighbourhood', 'host_listings_count',\n",
       "       'host_total_listings_count', 'host_verifications',\n",
       "       'host_has_profile_pic', 'host_identity_verified', 'neighbourhood',\n",
       "       'neighbourhood_cleansed', 'neighbourhood_group_cleansed', 'latitude',\n",
       "       'longitude', 'property_type', 'room_type', 'accommodates', 'bathrooms',\n",
       "       'bathrooms_text', 'bedrooms', 'beds', 'amenities', 'price',\n",
       "       'minimum_nights', 'maximum_nights', 'minimum_minimum_nights',\n",
       "       'maximum_minimum_nights', 'minimum_maximum_nights',\n",
       "       'maximum_maximum_nights', 'minimum_nights_avg_ntm',\n",
       "       'maximum_nights_avg_ntm', 'calendar_updated', 'has_availability',\n",
       "       'availability_30', 'availability_60', 'availability_90',\n",
       "       'availability_365', 'calendar_last_scraped', 'number_of_reviews',\n",
       "       'number_of_reviews_ltm', 'number_of_reviews_l30d', 'first_review',\n",
       "       'last_review', 'review_scores_rating', 'review_scores_accuracy',\n",
       "       'review_scores_cleanliness', 'review_scores_checkin',\n",
       "       'review_scores_communication', 'review_scores_location',\n",
       "       'review_scores_value', 'license', 'instant_bookable',\n",
       "       'calculated_host_listings_count',\n",
       "       'calculated_host_listings_count_entire_homes',\n",
       "       'calculated_host_listings_count_private_rooms',\n",
       "       'calculated_host_listings_count_shared_rooms', 'reviews_per_month'],\n",
       "      dtype='object')"
      ]
     },
     "execution_count": 11,
     "metadata": {},
     "output_type": "execute_result"
    }
   ],
   "source": [
    "data.columns"
   ]
  },
  {
   "cell_type": "code",
   "execution_count": 12,
   "metadata": {},
   "outputs": [
    {
     "data": {
      "text/plain": [
       "neighbourhood_cleansed\n",
       "Cedofeita, Ildefonso, Sé, Miragaia, Nicolau, Vitória    6987\n",
       "Bonfim                                                  1391\n",
       "Santa Marinha e São Pedro da Afurada                     643\n",
       "Lordelo do Ouro e Massarelos                             538\n",
       "Paranhos                                                 526\n",
       "                                                        ... \n",
       "Cristelo                                                   1\n",
       "Negrelos (São Tomé)                                        1\n",
       "Sanguedo                                                   1\n",
       "Fornos                                                     1\n",
       "Gandra                                                     1\n",
       "Name: count, Length: 152, dtype: int64"
      ]
     },
     "execution_count": 12,
     "metadata": {},
     "output_type": "execute_result"
    }
   ],
   "source": [
    "data.neighbourhood_cleansed.value_counts()"
   ]
  },
  {
   "cell_type": "markdown",
   "metadata": {},
   "source": [
    "# EDA"
   ]
  },
  {
   "cell_type": "code",
   "execution_count": 217,
   "metadata": {},
   "outputs": [
    {
     "data": {
      "text/plain": [
       "<bound method Series.info of 0        5.0\n",
       "1        5.0\n",
       "2        5.0\n",
       "3        2.0\n",
       "4        4.0\n",
       "        ... \n",
       "13596    4.0\n",
       "13597    3.0\n",
       "13598    3.0\n",
       "13599    6.0\n",
       "13600    3.0\n",
       "Name: accommodates, Length: 13601, dtype: float64>"
      ]
     },
     "execution_count": 217,
     "metadata": {},
     "output_type": "execute_result"
    }
   ],
   "source": [
    "data[\"accommodates\"].info"
   ]
  },
  {
   "cell_type": "code",
   "execution_count": 224,
   "metadata": {},
   "outputs": [],
   "source": [
    "data[\"accommodates\"] = data[\"accommodates\"].astype(float)\n",
    "data = data[data[\"accommodates\"] <=  6]\n",
    "data = data[data[\"accommodates\"] >= 2]"
   ]
  },
  {
   "cell_type": "code",
   "execution_count": 325,
   "metadata": {},
   "outputs": [],
   "source": [
    "# basic variables inc neighbourhood\n",
    "basic_vars = [\n",
    "    \"accommodates\",\n",
    "    \"beds\",\n",
    "    \"property_type\",\n",
    "    \"room_type\",\n",
    "    \"neighbourhood_cleansed\",\n",
    "    #\"host_acceptance_rate\",\n",
    "    #'amenities'\n",
    "]\n",
    "\n",
    "# reviews\n",
    "reviews = [\n",
    "    \"number_of_reviews\",\n",
    "    \"review_scores_rating\",\n",
    "]"
   ]
  },
  {
   "cell_type": "code",
   "execution_count": 326,
   "metadata": {},
   "outputs": [
    {
     "data": {
      "text/plain": [
       "<bound method Series.info of 0        100.0\n",
       "1        100.0\n",
       "2        100.0\n",
       "3         99.0\n",
       "4        100.0\n",
       "         ...  \n",
       "13596    100.0\n",
       "13597     93.0\n",
       "13598     93.0\n",
       "13599    100.0\n",
       "13600    100.0\n",
       "Name: host_acceptance_rate, Length: 12197, dtype: float64>"
      ]
     },
     "execution_count": 326,
     "metadata": {},
     "output_type": "execute_result"
    }
   ],
   "source": [
    "data['host_acceptance_rate'] = data['host_acceptance_rate'].replace('%', '', regex=True).astype(float)\n",
    "data['host_acceptance_rate'].info"
   ]
  },
  {
   "cell_type": "code",
   "execution_count": 327,
   "metadata": {},
   "outputs": [],
   "source": [
    "predictors_1 = basic_vars\n",
    "predictors_2 = basic_vars + reviews\n",
    "all = ['price'] + predictors_2"
   ]
  },
  {
   "cell_type": "code",
   "execution_count": 328,
   "metadata": {},
   "outputs": [],
   "source": [
    "data_selected = data[all]"
   ]
  },
  {
   "cell_type": "code",
   "execution_count": 329,
   "metadata": {},
   "outputs": [],
   "source": [
    "# 少なくとも一つのカラムでNullを含む行を全て削除する\n",
    "# df_cleaned = df.dropna(subset=['column_name'])\n",
    "data_selected = data_selected.dropna()"
   ]
  },
  {
   "cell_type": "code",
   "execution_count": 330,
   "metadata": {},
   "outputs": [
    {
     "name": "stdout",
     "output_type": "stream",
     "text": [
      "<class 'pandas.core.frame.DataFrame'>\n",
      "Index: 10324 entries, 0 to 13524\n",
      "Data columns (total 8 columns):\n",
      " #   Column                  Non-Null Count  Dtype  \n",
      "---  ------                  --------------  -----  \n",
      " 0   price                   10324 non-null  object \n",
      " 1   accommodates            10324 non-null  float64\n",
      " 2   beds                    10324 non-null  float64\n",
      " 3   property_type           10324 non-null  object \n",
      " 4   room_type               10324 non-null  object \n",
      " 5   neighbourhood_cleansed  10324 non-null  object \n",
      " 6   number_of_reviews       10324 non-null  int64  \n",
      " 7   review_scores_rating    10324 non-null  float64\n",
      "dtypes: float64(3), int64(1), object(4)\n",
      "memory usage: 725.9+ KB\n"
     ]
    }
   ],
   "source": [
    "data_selected.info()"
   ]
  },
  {
   "cell_type": "code",
   "execution_count": 331,
   "metadata": {},
   "outputs": [
    {
     "data": {
      "text/plain": [
       "<bound method Series.info of 0        $63.00\n",
       "3        $33.00\n",
       "4        $64.00\n",
       "5        $33.00\n",
       "6        $68.00\n",
       "          ...  \n",
       "13503    $70.00\n",
       "13507    $55.00\n",
       "13519    $80.00\n",
       "13523    $77.00\n",
       "13524    $77.00\n",
       "Name: price, Length: 10324, dtype: object>"
      ]
     },
     "execution_count": 331,
     "metadata": {},
     "output_type": "execute_result"
    }
   ],
   "source": [
    "data_selected['price'].info"
   ]
  },
  {
   "cell_type": "code",
   "execution_count": 332,
   "metadata": {},
   "outputs": [],
   "source": [
    "# 例えば、'$1,000'という形式の価格を1000.0のようなfloatに変換する\n",
    "data_selected['price'] = data_selected['price'].replace('[\\$,]', '', regex=True).astype(float)"
   ]
  },
  {
   "cell_type": "code",
   "execution_count": 333,
   "metadata": {},
   "outputs": [
    {
     "data": {
      "text/plain": [
       "<bound method Series.info of 0        63.0\n",
       "3        33.0\n",
       "4        64.0\n",
       "5        33.0\n",
       "6        68.0\n",
       "         ... \n",
       "13503    70.0\n",
       "13507    55.0\n",
       "13519    80.0\n",
       "13523    77.0\n",
       "13524    77.0\n",
       "Name: price, Length: 10324, dtype: float64>"
      ]
     },
     "execution_count": 333,
     "metadata": {},
     "output_type": "execute_result"
    }
   ],
   "source": [
    "data_selected['price'].info"
   ]
  },
  {
   "cell_type": "markdown",
   "metadata": {},
   "source": [
    "# Random Forest"
   ]
  },
  {
   "cell_type": "code",
   "execution_count": 334,
   "metadata": {},
   "outputs": [],
   "source": [
    "data_train, data_holdout = train_test_split(data_selected, train_size=0.7, random_state=42)"
   ]
  },
  {
   "cell_type": "code",
   "execution_count": 335,
   "metadata": {},
   "outputs": [
    {
     "data": {
      "text/plain": [
       "((7226, 8), (3098, 8))"
      ]
     },
     "execution_count": 335,
     "metadata": {},
     "output_type": "execute_result"
    }
   ],
   "source": [
    "data_train.shape, data_holdout.shape"
   ]
  },
  {
   "cell_type": "code",
   "execution_count": 336,
   "metadata": {},
   "outputs": [],
   "source": [
    "from patsy import dmatrices\n",
    "y, X = dmatrices(\"price ~ \" + \" + \".join(predictors_2), data_train)"
   ]
  },
  {
   "cell_type": "code",
   "execution_count": 337,
   "metadata": {},
   "outputs": [
    {
     "data": {
      "text/plain": [
       "patsy.design_info.DesignMatrix"
      ]
     },
     "execution_count": 337,
     "metadata": {},
     "output_type": "execute_result"
    }
   ],
   "source": [
    "type(X)"
   ]
  },
  {
   "cell_type": "code",
   "execution_count": 338,
   "metadata": {},
   "outputs": [
    {
     "data": {
      "text/plain": [
       "DesignMatrix with shape (7226, 198)\n",
       "  Columns:\n",
       "    ['Intercept',\n",
       "     'property_type[T.Camper/RV]',\n",
       "     'property_type[T.Campsite]',\n",
       "     'property_type[T.Casa particular]',\n",
       "     'property_type[T.Earthen home]',\n",
       "     'property_type[T.Entire bed and breakfast]',\n",
       "     'property_type[T.Entire bungalow]',\n",
       "     'property_type[T.Entire cabin]',\n",
       "     'property_type[T.Entire chalet]',\n",
       "     'property_type[T.Entire condo]',\n",
       "     'property_type[T.Entire cottage]',\n",
       "     'property_type[T.Entire guest suite]',\n",
       "     'property_type[T.Entire guesthouse]',\n",
       "     'property_type[T.Entire home]',\n",
       "     'property_type[T.Entire home/apt]',\n",
       "     'property_type[T.Entire loft]',\n",
       "     'property_type[T.Entire place]',\n",
       "     'property_type[T.Entire rental unit]',\n",
       "     'property_type[T.Entire serviced apartment]',\n",
       "     'property_type[T.Entire townhouse]',\n",
       "     'property_type[T.Entire vacation home]',\n",
       "     'property_type[T.Entire villa]',\n",
       "     'property_type[T.Farm stay]',\n",
       "     'property_type[T.Houseboat]',\n",
       "     'property_type[T.Hut]',\n",
       "     'property_type[T.Private room]',\n",
       "     'property_type[T.Private room in bed and breakfast]',\n",
       "     'property_type[T.Private room in boat]',\n",
       "     'property_type[T.Private room in bungalow]',\n",
       "     'property_type[T.Private room in casa particular]',\n",
       "     'property_type[T.Private room in cave]',\n",
       "     'property_type[T.Private room in condo]',\n",
       "     'property_type[T.Private room in cottage]',\n",
       "     'property_type[T.Private room in farm stay]',\n",
       "     'property_type[T.Private room in guest suite]',\n",
       "     'property_type[T.Private room in guesthouse]',\n",
       "     'property_type[T.Private room in home]',\n",
       "     'property_type[T.Private room in hostel]',\n",
       "     'property_type[T.Private room in loft]',\n",
       "     'property_type[T.Private room in minsu]',\n",
       "     'property_type[T.Private room in nature lodge]',\n",
       "     'property_type[T.Private room in rental unit]',\n",
       "     'property_type[T.Private room in serviced apartment]',\n",
       "     'property_type[T.Private room in tiny home]',\n",
       "     'property_type[T.Private room in townhouse]',\n",
       "     'property_type[T.Private room in villa]',\n",
       "     'property_type[T.Room in aparthotel]',\n",
       "     'property_type[T.Room in bed and breakfast]',\n",
       "     'property_type[T.Room in boutique hotel]',\n",
       "     'property_type[T.Room in heritage hotel]',\n",
       "     'property_type[T.Room in hostel]',\n",
       "     'property_type[T.Room in hotel]',\n",
       "     'property_type[T.Room in serviced apartment]',\n",
       "     'property_type[T.Shared room in bed and breakfast]',\n",
       "     'property_type[T.Shared room in boutique hotel]',\n",
       "     'property_type[T.Shared room in guesthouse]',\n",
       "     'property_type[T.Shared room in home]',\n",
       "     'property_type[T.Shared room in hostel]',\n",
       "     'property_type[T.Shared room in rental unit]',\n",
       "     'property_type[T.Shipping container]',\n",
       "     'property_type[T.Tiny home]',\n",
       "     'property_type[T.Tipi]',\n",
       "     'property_type[T.Windmill]',\n",
       "     'room_type[T.Hotel room]',\n",
       "     'room_type[T.Private room]',\n",
       "     'room_type[T.Shared room]',\n",
       "     'neighbourhood_cleansed[T.Agrela]',\n",
       "     'neighbourhood_cleansed[T.Aguiar de Sousa]',\n",
       "     'neighbourhood_cleansed[T.Aguçadoura e Navais]',\n",
       "     'neighbourhood_cleansed[T.Aldoar, Foz do Douro e Nevogilde]',\n",
       "     'neighbourhood_cleansed[T.Alfena]',\n",
       "     'neighbourhood_cleansed[T.Alvarelhos e Guidões]',\n",
       "     'neighbourhood_cleansed[T.Alvarenga]',\n",
       "     'neighbourhood_cleansed[T.Anta e Guetim]',\n",
       "     'neighbourhood_cleansed[T.Arcozelo]',\n",
       "     'neighbourhood_cleansed[T.Areias, Sequeiró, Lama e Palmeira]',\n",
       "     'neighbourhood_cleansed[T.Arouca e Burgo]',\n",
       "     'neighbourhood_cleansed[T.Arões]',\n",
       "     'neighbourhood_cleansed[T.Avintes]',\n",
       "     'neighbourhood_cleansed[T.Azurara]',\n",
       "     'neighbourhood_cleansed[T.Baguim do Monte (Rio Tinto)]',\n",
       "     'neighbourhood_cleansed[T.Bagunte, Ferreiró, Outeiro Maior e Parada]',\n",
       "     'neighbourhood_cleansed[T.Baltar]',\n",
       "     'neighbourhood_cleansed[T.Bonfim]',\n",
       "     'neighbourhood_cleansed[T.Cabreiros e Albergaria da Serra]',\n",
       "     'neighbourhood_cleansed[T.Caldas de São Jorge e de Pigeiros]',\n",
       "     'neighbourhood_cleansed[T.Campanhã]',\n",
       "     'neighbourhood_cleansed[T.Campo e Sobrado]',\n",
       "     'neighbourhood_cleansed[T.Canedo, Vale e Vila Maior]',\n",
       "     'neighbourhood_cleansed[T.Canelas]',\n",
       "     'neighbourhood_cleansed[T.Canelas e Espiunca]',\n",
       "     'neighbourhood_cleansed[T.Canidelo]',\n",
       "     'neighbourhood_cleansed[T.Carregosa]',\n",
       "     'neighbourhood_cleansed[T.Carreira e Refojos de Riba de Ave]',\n",
       "     'neighbourhood_cleansed[T.Castêlo da Maia]',\n",
       "     'neighbourhood_cleansed[T.Cedofeita, Ildefonso, Sé, Miragaia, Nicolau, Vitória]',\n",
       "     'neighbourhood_cleansed[T.Cepelos]',\n",
       "     'neighbourhood_cleansed[T.Cesar]',\n",
       "     'neighbourhood_cleansed[T.Chave]',\n",
       "     'neighbourhood_cleansed[T.Cidade da Maia]',\n",
       "     'neighbourhood_cleansed[T.Coronado (São Romão e São Mamede)]',\n",
       "     'neighbourhood_cleansed[T.Covelas]',\n",
       "     'neighbourhood_cleansed[T.Custóias, Leça do Balio e Guifões]',\n",
       "     'neighbourhood_cleansed[T.Duas Igrejas]',\n",
       "     'neighbourhood_cleansed[T.Ermesinde]',\n",
       "     'neighbourhood_cleansed[T.Escariz]',\n",
       "     'neighbourhood_cleansed[T.Espinho]',\n",
       "     'neighbourhood_cleansed[T.Fajões]',\n",
       "     'neighbourhood_cleansed[T.Fiães]',\n",
       "     'neighbourhood_cleansed[T.Fornelo e Vairão]',\n",
       "     'neighbourhood_cleansed[T.Foz do Sousa e Covelo]',\n",
       "     'neighbourhood_cleansed[T.Fânzeres e São Pedro da Cova]',\n",
       "     'neighbourhood_cleansed[T.Gondomar (São Cosme), Valbom e Jovim]',\n",
       "     'neighbourhood_cleansed[T.Grijó e Sermonde]',\n",
       "     'neighbourhood_cleansed[T.Gulpilhares e Valadares]',\n",
       "     'neighbourhood_cleansed[T.Junqueira]',\n",
       "     'neighbourhood_cleansed[T.Labruge]',\n",
       "     'neighbourhood_cleansed[T.Lobão, Gião, Louredo e Guisande]',\n",
       "     'neighbourhood_cleansed[T.Lomba]',\n",
       "     'neighbourhood_cleansed[T.Lordelo do Ouro e Massarelos]',\n",
       "     'neighbourhood_cleansed[T.Louredo]',\n",
       "     'neighbourhood_cleansed[T.Lourosa]',\n",
       "     'neighbourhood_cleansed[T.Macieira da Maia]',\n",
       "     'neighbourhood_cleansed[T.Macieira de Cambra]',\n",
       "     'neighbourhood_cleansed[T.Macieira de Sarnes]',\n",
       "     'neighbourhood_cleansed[T.Madalena]',\n",
       "     'neighbourhood_cleansed[T.Mafamude e Vilar do Paraíso]',\n",
       "     'neighbourhood_cleansed[T.Malta e Canidelo]',\n",
       "     'neighbourhood_cleansed[T.Mansores]',\n",
       "     'neighbourhood_cleansed[T.Matosinhos e Leça da Palmeira]',\n",
       "     'neighbourhood_cleansed[T.Melres e Medas]',\n",
       "     'neighbourhood_cleansed[T.Milheirós]',\n",
       "     'neighbourhood_cleansed[T.Milheirós de Poiares]',\n",
       "     'neighbourhood_cleansed[T.Mindelo]',\n",
       "     'neighbourhood_cleansed[T.Moldes]',\n",
       "     'neighbourhood_cleansed[T.Monte Córdova]',\n",
       "     'neighbourhood_cleansed[T.Moreira]',\n",
       "     'neighbourhood_cleansed[T.Muro]',\n",
       "     'neighbourhood_cleansed[T.Nogueira e Silva Escura]',\n",
       "     'neighbourhood_cleansed[T.O. Azeméis, Riba-Ul, Ul, Macinhata da Seixa, Madail]',\n",
       "     'neighbourhood_cleansed[T.Oliveira do Douro]',\n",
       "     'neighbourhood_cleansed[T.Ossela]',\n",
       "     'neighbourhood_cleansed[T.Parada de Todeia]',\n",
       "     'neighbourhood_cleansed[T.Paranhos]',\n",
       "     'neighbourhood_cleansed[T.Paredes]',\n",
       "     'neighbourhood_cleansed[T.Paços de Brandão]',\n",
       "     'neighbourhood_cleansed[T.Pedroso e Seixezelo]',\n",
       "     'neighbourhood_cleansed[T.Pedrouços]',\n",
       "     'neighbourhood_cleansed[T.Perafita, Lavra e Santa Cruz do Bispo]',\n",
       "     'neighbourhood_cleansed[T.Pinheiro da Bemposta, Travanca e Palmaz]',\n",
       "     'neighbourhood_cleansed[T.Póvoa de Varzim, Beiriz e Argivai]',\n",
       "     'neighbourhood_cleansed[T.Ramalde]',\n",
       "     'neighbourhood_cleansed[T.Rates]',\n",
       "     'neighbourhood_cleansed[T.Rebordosa]',\n",
       "     'neighbourhood_cleansed[T.Recarei]',\n",
       "     'neighbourhood_cleansed[T.Reguenga]',\n",
       "     'neighbourhood_cleansed[T.Retorta e Tougues]',\n",
       "     'neighbourhood_cleansed[T.Rio Mau e Arcos]',\n",
       "     'neighbourhood_cleansed[T.Rio Tinto]',\n",
       "     'neighbourhood_cleansed[T.Roge]',\n",
       "     'neighbourhood_cleansed[T.Romariz]',\n",
       "     'neighbourhood_cleansed[T.Roriz]',\n",
       "     'neighbourhood_cleansed[T.Rossas]',\n",
       "     'neighbourhood_cleansed[T.Sandim, Olival, Lever e Crestuma]',\n",
       "     'neighbourhood_cleansed[T.Santa Eulália]',\n",
       "     'neighbourhood_cleansed[T.Santa Maria da Feira, Travanca, Sanfins e Espargo]',\n",
       "     'neighbourhood_cleansed[T.Santa Maria de Lamas]',\n",
       "     'neighbourhood_cleansed[T.Santa Marinha e São Pedro da Afurada]',\n",
       "     'neighbourhood_cleansed[T.Serzedo e Perosinho]',\n",
       "     'neighbourhood_cleansed[T.Silvalde]',\n",
       "     'neighbourhood_cleansed[T.Sobreira]',\n",
       "     'neighbourhood_cleansed[T.St. Tirso, Couto (S. Cristina e S. Miguel) e Burgães]',\n",
       "     'neighbourhood_cleansed[T.São Félix da Marinha]',\n",
       "     'neighbourhood_cleansed[T.São João da Madeira]',\n",
       "     'neighbourhood_cleansed[T.São Mamede de Infesta e Senhora da Hora]',\n",
       "     'neighbourhood_cleansed[T.São Martinho da Gândara]',\n",
       "     'neighbourhood_cleansed[T.São Pedro de Castelões]',\n",
       "     'neighbourhood_cleansed[T.São Roque]',\n",
       "     'neighbourhood_cleansed[T.Touguinha e Touguinhó]',\n",
       "     'neighbourhood_cleansed[T.Tropeço]',\n",
       "     'neighbourhood_cleansed[T.Urrô]',\n",
       "     'neighbourhood_cleansed[T.Valongo]',\n",
       "     'neighbourhood_cleansed[T.Vila Chã]',\n",
       "     'neighbourhood_cleansed[T.Vila Chã, Codal e Vila Cova de Perrinho]',\n",
       "     'neighbourhood_cleansed[T.Vila Nova da Telha]',\n",
       "     'neighbourhood_cleansed[T.Vila Nova do Campo]',\n",
       "     'neighbourhood_cleansed[T.Vila do Conde]',\n",
       "     'neighbourhood_cleansed[T.Vilar de Andorinho]',\n",
       "     'neighbourhood_cleansed[T.Vilar de Pinheiro]',\n",
       "     'neighbourhood_cleansed[T.Vilar e Mosteiró]',\n",
       "     'neighbourhood_cleansed[T.Vilarinho]',\n",
       "     'neighbourhood_cleansed[T.Várzea]',\n",
       "     'neighbourhood_cleansed[T.Águas Santas]',\n",
       "     'neighbourhood_cleansed[T.Árvore]',\n",
       "     'accommodates',\n",
       "     'beds',\n",
       "     'number_of_reviews',\n",
       "     'review_scores_rating']\n",
       "  Terms:\n",
       "    'Intercept' (column 0)\n",
       "    'property_type' (columns 1:63)\n",
       "    'room_type' (columns 63:66)\n",
       "    'neighbourhood_cleansed' (columns 66:194)\n",
       "    'accommodates' (column 194)\n",
       "    'beds' (column 195)\n",
       "    'number_of_reviews' (column 196)\n",
       "    'review_scores_rating' (column 197)\n",
       "  (to view full data, use np.asarray(this_obj))"
      ]
     },
     "execution_count": 338,
     "metadata": {},
     "output_type": "execute_result"
    }
   ],
   "source": [
    "X"
   ]
  },
  {
   "cell_type": "code",
   "execution_count": 339,
   "metadata": {},
   "outputs": [],
   "source": [
    "from sklearn.ensemble import RandomForestRegressor\n",
    "rfr = RandomForestRegressor(random_state = 20240211)"
   ]
  },
  {
   "cell_type": "code",
   "execution_count": 340,
   "metadata": {},
   "outputs": [],
   "source": [
    "tune_grid = {\"max_features\": [6, 8, 10, 12], \"min_samples_leaf\": [5, 10, 15]}"
   ]
  },
  {
   "cell_type": "code",
   "execution_count": 341,
   "metadata": {},
   "outputs": [],
   "source": [
    "rf_random = GridSearchCV(\n",
    "    rfr,\n",
    "    tune_grid,\n",
    "    cv=5,\n",
    "    scoring=\"neg_root_mean_squared_error\",\n",
    "    verbose=3,\n",
    ")"
   ]
  },
  {
   "cell_type": "code",
   "execution_count": 342,
   "metadata": {},
   "outputs": [
    {
     "name": "stdout",
     "output_type": "stream",
     "text": [
      "(7226, 198)\n",
      "(7226, 1)\n"
     ]
    }
   ],
   "source": [
    "print(X.shape)  # X は特徴量のデータセット\n",
    "print(y.shape)  # y はターゲットのデータセット"
   ]
  },
  {
   "cell_type": "code",
   "execution_count": 343,
   "metadata": {},
   "outputs": [
    {
     "name": "stdout",
     "output_type": "stream",
     "text": [
      "Fitting 5 folds for each of 12 candidates, totalling 60 fits\n",
      "[CV 1/5] END max_features=6, min_samples_leaf=5;, score=-103.531 total time=   1.3s\n"
     ]
    },
    {
     "name": "stdout",
     "output_type": "stream",
     "text": [
      "[CV 2/5] END max_features=6, min_samples_leaf=5;, score=-53.818 total time=   1.0s\n",
      "[CV 3/5] END max_features=6, min_samples_leaf=5;, score=-55.231 total time=   1.2s\n",
      "[CV 4/5] END max_features=6, min_samples_leaf=5;, score=-64.285 total time=   0.4s\n",
      "[CV 5/5] END max_features=6, min_samples_leaf=5;, score=-149.338 total time=   0.4s\n",
      "[CV 1/5] END max_features=6, min_samples_leaf=10;, score=-104.214 total time=   0.4s\n",
      "[CV 2/5] END max_features=6, min_samples_leaf=10;, score=-55.339 total time=   0.4s\n",
      "[CV 3/5] END max_features=6, min_samples_leaf=10;, score=-56.310 total time=   0.6s\n",
      "[CV 4/5] END max_features=6, min_samples_leaf=10;, score=-65.146 total time=   0.7s\n",
      "[CV 5/5] END max_features=6, min_samples_leaf=10;, score=-149.817 total time=   0.4s\n",
      "[CV 1/5] END max_features=6, min_samples_leaf=15;, score=-104.428 total time=   0.3s\n",
      "[CV 2/5] END max_features=6, min_samples_leaf=15;, score=-55.734 total time=   0.3s\n",
      "[CV 3/5] END max_features=6, min_samples_leaf=15;, score=-56.719 total time=   0.3s\n",
      "[CV 4/5] END max_features=6, min_samples_leaf=15;, score=-65.374 total time=   0.4s\n",
      "[CV 5/5] END max_features=6, min_samples_leaf=15;, score=-150.007 total time=   0.5s\n",
      "[CV 1/5] END max_features=8, min_samples_leaf=5;, score=-103.232 total time=   0.5s\n",
      "[CV 2/5] END max_features=8, min_samples_leaf=5;, score=-52.611 total time=   0.6s\n",
      "[CV 3/5] END max_features=8, min_samples_leaf=5;, score=-53.582 total time=   0.5s\n",
      "[CV 4/5] END max_features=8, min_samples_leaf=5;, score=-63.340 total time=   0.6s\n",
      "[CV 5/5] END max_features=8, min_samples_leaf=5;, score=-148.842 total time=   0.6s\n",
      "[CV 1/5] END max_features=8, min_samples_leaf=10;, score=-103.732 total time=   0.4s\n",
      "[CV 2/5] END max_features=8, min_samples_leaf=10;, score=-54.061 total time=   0.4s\n",
      "[CV 3/5] END max_features=8, min_samples_leaf=10;, score=-55.193 total time=   0.9s\n",
      "[CV 4/5] END max_features=8, min_samples_leaf=10;, score=-64.499 total time=   1.6s\n",
      "[CV 5/5] END max_features=8, min_samples_leaf=10;, score=-149.401 total time=   0.8s\n",
      "[CV 1/5] END max_features=8, min_samples_leaf=15;, score=-103.934 total time=   1.2s\n",
      "[CV 2/5] END max_features=8, min_samples_leaf=15;, score=-54.718 total time=   1.1s\n",
      "[CV 3/5] END max_features=8, min_samples_leaf=15;, score=-55.877 total time=   0.5s\n",
      "[CV 4/5] END max_features=8, min_samples_leaf=15;, score=-64.764 total time=   0.6s\n",
      "[CV 5/5] END max_features=8, min_samples_leaf=15;, score=-149.590 total time=   0.3s\n",
      "[CV 1/5] END max_features=10, min_samples_leaf=5;, score=-102.820 total time=   0.6s\n",
      "[CV 2/5] END max_features=10, min_samples_leaf=5;, score=-51.807 total time=   0.9s\n",
      "[CV 3/5] END max_features=10, min_samples_leaf=5;, score=-52.824 total time=   0.8s\n",
      "[CV 4/5] END max_features=10, min_samples_leaf=5;, score=-62.862 total time=   0.9s\n",
      "[CV 5/5] END max_features=10, min_samples_leaf=5;, score=-148.487 total time=   0.5s\n",
      "[CV 1/5] END max_features=10, min_samples_leaf=10;, score=-103.362 total time=   0.4s\n",
      "[CV 2/5] END max_features=10, min_samples_leaf=10;, score=-53.656 total time=   0.4s\n",
      "[CV 3/5] END max_features=10, min_samples_leaf=10;, score=-54.559 total time=   0.6s\n",
      "[CV 4/5] END max_features=10, min_samples_leaf=10;, score=-64.172 total time=   0.5s\n",
      "[CV 5/5] END max_features=10, min_samples_leaf=10;, score=-149.085 total time=   0.6s\n",
      "[CV 1/5] END max_features=10, min_samples_leaf=15;, score=-103.704 total time=   0.5s\n",
      "[CV 2/5] END max_features=10, min_samples_leaf=15;, score=-54.258 total time=   0.4s\n",
      "[CV 3/5] END max_features=10, min_samples_leaf=15;, score=-55.293 total time=   0.4s\n",
      "[CV 4/5] END max_features=10, min_samples_leaf=15;, score=-64.648 total time=   0.5s\n",
      "[CV 5/5] END max_features=10, min_samples_leaf=15;, score=-149.391 total time=   0.4s\n",
      "[CV 1/5] END max_features=12, min_samples_leaf=5;, score=-102.648 total time=   0.7s\n",
      "[CV 2/5] END max_features=12, min_samples_leaf=5;, score=-51.152 total time=   0.6s\n",
      "[CV 3/5] END max_features=12, min_samples_leaf=5;, score=-52.703 total time=   0.6s\n",
      "[CV 4/5] END max_features=12, min_samples_leaf=5;, score=-62.353 total time=   0.6s\n",
      "[CV 5/5] END max_features=12, min_samples_leaf=5;, score=-148.088 total time=   0.6s\n",
      "[CV 1/5] END max_features=12, min_samples_leaf=10;, score=-103.164 total time=   0.6s\n",
      "[CV 2/5] END max_features=12, min_samples_leaf=10;, score=-52.743 total time=   0.5s\n",
      "[CV 3/5] END max_features=12, min_samples_leaf=10;, score=-53.789 total time=   0.5s\n",
      "[CV 4/5] END max_features=12, min_samples_leaf=10;, score=-63.580 total time=   0.5s\n",
      "[CV 5/5] END max_features=12, min_samples_leaf=10;, score=-148.786 total time=   0.5s\n",
      "[CV 1/5] END max_features=12, min_samples_leaf=15;, score=-103.404 total time=   0.4s\n",
      "[CV 2/5] END max_features=12, min_samples_leaf=15;, score=-53.667 total time=   0.4s\n",
      "[CV 3/5] END max_features=12, min_samples_leaf=15;, score=-54.353 total time=   0.4s\n",
      "[CV 4/5] END max_features=12, min_samples_leaf=15;, score=-64.032 total time=   0.4s\n",
      "[CV 5/5] END max_features=12, min_samples_leaf=15;, score=-149.073 total time=   0.4s\n",
      "CPU times: user 26.9 s, sys: 772 ms, total: 27.7 s\n",
      "Wall time: 36.1 s\n"
     ]
    }
   ],
   "source": [
    "%%time\n",
    "rf_model = rf_random.fit(X, y.ravel())"
   ]
  },
  {
   "cell_type": "code",
   "execution_count": 344,
   "metadata": {},
   "outputs": [
    {
     "data": {
      "text/plain": [
       "{'mean_fit_time': array([0.82794461, 0.44026384, 0.33106689, 0.53073082, 0.77735782,\n",
       "        0.73169017, 0.70687428, 0.45900621, 0.42521319, 0.59711809,\n",
       "        0.49030356, 0.40550594]),\n",
       " 'std_fit_time': array([0.36021376, 0.11986776, 0.07292353, 0.0564011 , 0.41325752,\n",
       "        0.30895068, 0.15968057, 0.08388125, 0.07125794, 0.06271966,\n",
       "        0.04318301, 0.00521035]),\n",
       " 'mean_score_time': array([0.05233684, 0.03055301, 0.01419787, 0.01950779, 0.03843508,\n",
       "        0.03040981, 0.02741232, 0.02799778, 0.01534243, 0.02012882,\n",
       "        0.01687803, 0.01650472]),\n",
       " 'std_score_time': array([0.05115773, 0.02229241, 0.00389355, 0.0027532 , 0.02779659,\n",
       "        0.02604142, 0.0134914 , 0.02294931, 0.00316454, 0.00091676,\n",
       "        0.00091879, 0.00271165]),\n",
       " 'param_max_features': masked_array(data=[6, 6, 6, 8, 8, 8, 10, 10, 10, 12, 12, 12],\n",
       "              mask=[False, False, False, False, False, False, False, False,\n",
       "                    False, False, False, False],\n",
       "        fill_value='?',\n",
       "             dtype=object),\n",
       " 'param_min_samples_leaf': masked_array(data=[5, 10, 15, 5, 10, 15, 5, 10, 15, 5, 10, 15],\n",
       "              mask=[False, False, False, False, False, False, False, False,\n",
       "                    False, False, False, False],\n",
       "        fill_value='?',\n",
       "             dtype=object),\n",
       " 'params': [{'max_features': 6, 'min_samples_leaf': 5},\n",
       "  {'max_features': 6, 'min_samples_leaf': 10},\n",
       "  {'max_features': 6, 'min_samples_leaf': 15},\n",
       "  {'max_features': 8, 'min_samples_leaf': 5},\n",
       "  {'max_features': 8, 'min_samples_leaf': 10},\n",
       "  {'max_features': 8, 'min_samples_leaf': 15},\n",
       "  {'max_features': 10, 'min_samples_leaf': 5},\n",
       "  {'max_features': 10, 'min_samples_leaf': 10},\n",
       "  {'max_features': 10, 'min_samples_leaf': 15},\n",
       "  {'max_features': 12, 'min_samples_leaf': 5},\n",
       "  {'max_features': 12, 'min_samples_leaf': 10},\n",
       "  {'max_features': 12, 'min_samples_leaf': 15}],\n",
       " 'split0_test_score': array([-103.53125906, -104.21385354, -104.42754747, -103.23155525,\n",
       "        -103.73224309, -103.93438469, -102.82006007, -103.36179765,\n",
       "        -103.70376792, -102.64791306, -103.16385228, -103.40400363]),\n",
       " 'split1_test_score': array([-53.81769377, -55.33863955, -55.7339134 , -52.61146133,\n",
       "        -54.06134292, -54.71834552, -51.80735638, -53.65602981,\n",
       "        -54.25833343, -51.15178724, -52.74280496, -53.6668041 ]),\n",
       " 'split2_test_score': array([-55.23090771, -56.31033489, -56.71917514, -53.58210236,\n",
       "        -55.19267022, -55.87722277, -52.823759  , -54.55880036,\n",
       "        -55.29333852, -52.7026367 , -53.78861426, -54.3530775 ]),\n",
       " 'split3_test_score': array([-64.28453561, -65.1464317 , -65.3740365 , -63.33953056,\n",
       "        -64.49870188, -64.76351944, -62.86236183, -64.17243181,\n",
       "        -64.64753079, -62.35309413, -63.57958662, -64.03236303]),\n",
       " 'split4_test_score': array([-149.33837128, -149.81673439, -150.00683378, -148.84154406,\n",
       "        -149.40140073, -149.59005011, -148.48745396, -149.0850645 ,\n",
       "        -149.39098656, -148.08842408, -148.78562615, -149.07265089]),\n",
       " 'mean_test_score': array([-85.24055349, -86.16519881, -86.45230126, -84.32123871,\n",
       "        -85.37727177, -85.7767045 , -83.76019825, -84.96682482,\n",
       "        -85.45879145, -83.38877104, -84.41209686, -84.90577983]),\n",
       " 'std_test_score': array([36.79730912, 36.49835653, 36.42597828, 37.17823674, 36.77963108,\n",
       "        36.611471  , 37.33004931, 36.84275859, 36.70622955, 37.36394337,\n",
       "        37.0683553 , 36.89068278]),\n",
       " 'rank_test_score': array([ 7, 11, 12,  3,  8, 10,  2,  6,  9,  1,  4,  5], dtype=int32)}"
      ]
     },
     "execution_count": 344,
     "metadata": {},
     "output_type": "execute_result"
    }
   ],
   "source": [
    "rf_model.cv_results_"
   ]
  },
  {
   "cell_type": "code",
   "execution_count": 345,
   "metadata": {},
   "outputs": [],
   "source": [
    "df_rf_model_cv_results = pd.DataFrame(rf_model.cv_results_)[[\n",
    "    'param_max_features', 'param_min_samples_leaf', 'mean_test_score']]"
   ]
  },
  {
   "cell_type": "code",
   "execution_count": 346,
   "metadata": {},
   "outputs": [],
   "source": [
    "df_rf_model_cv_results.columns = ['max features', 'min node size', 'RMSE']"
   ]
  },
  {
   "cell_type": "code",
   "execution_count": 347,
   "metadata": {},
   "outputs": [
    {
     "data": {
      "text/html": [
       "<div>\n",
       "<style scoped>\n",
       "    .dataframe tbody tr th:only-of-type {\n",
       "        vertical-align: middle;\n",
       "    }\n",
       "\n",
       "    .dataframe tbody tr th {\n",
       "        vertical-align: top;\n",
       "    }\n",
       "\n",
       "    .dataframe thead th {\n",
       "        text-align: right;\n",
       "    }\n",
       "</style>\n",
       "<table border=\"1\" class=\"dataframe\">\n",
       "  <thead>\n",
       "    <tr style=\"text-align: right;\">\n",
       "      <th></th>\n",
       "      <th>max features</th>\n",
       "      <th>min node size</th>\n",
       "      <th>RMSE</th>\n",
       "    </tr>\n",
       "  </thead>\n",
       "  <tbody>\n",
       "    <tr>\n",
       "      <th>0</th>\n",
       "      <td>6</td>\n",
       "      <td>5</td>\n",
       "      <td>-85.240553</td>\n",
       "    </tr>\n",
       "    <tr>\n",
       "      <th>1</th>\n",
       "      <td>6</td>\n",
       "      <td>10</td>\n",
       "      <td>-86.165199</td>\n",
       "    </tr>\n",
       "    <tr>\n",
       "      <th>2</th>\n",
       "      <td>6</td>\n",
       "      <td>15</td>\n",
       "      <td>-86.452301</td>\n",
       "    </tr>\n",
       "    <tr>\n",
       "      <th>3</th>\n",
       "      <td>8</td>\n",
       "      <td>5</td>\n",
       "      <td>-84.321239</td>\n",
       "    </tr>\n",
       "    <tr>\n",
       "      <th>4</th>\n",
       "      <td>8</td>\n",
       "      <td>10</td>\n",
       "      <td>-85.377272</td>\n",
       "    </tr>\n",
       "    <tr>\n",
       "      <th>5</th>\n",
       "      <td>8</td>\n",
       "      <td>15</td>\n",
       "      <td>-85.776705</td>\n",
       "    </tr>\n",
       "    <tr>\n",
       "      <th>6</th>\n",
       "      <td>10</td>\n",
       "      <td>5</td>\n",
       "      <td>-83.760198</td>\n",
       "    </tr>\n",
       "    <tr>\n",
       "      <th>7</th>\n",
       "      <td>10</td>\n",
       "      <td>10</td>\n",
       "      <td>-84.966825</td>\n",
       "    </tr>\n",
       "    <tr>\n",
       "      <th>8</th>\n",
       "      <td>10</td>\n",
       "      <td>15</td>\n",
       "      <td>-85.458791</td>\n",
       "    </tr>\n",
       "    <tr>\n",
       "      <th>9</th>\n",
       "      <td>12</td>\n",
       "      <td>5</td>\n",
       "      <td>-83.388771</td>\n",
       "    </tr>\n",
       "    <tr>\n",
       "      <th>10</th>\n",
       "      <td>12</td>\n",
       "      <td>10</td>\n",
       "      <td>-84.412097</td>\n",
       "    </tr>\n",
       "    <tr>\n",
       "      <th>11</th>\n",
       "      <td>12</td>\n",
       "      <td>15</td>\n",
       "      <td>-84.905780</td>\n",
       "    </tr>\n",
       "  </tbody>\n",
       "</table>\n",
       "</div>"
      ],
      "text/plain": [
       "   max features min node size       RMSE\n",
       "0             6             5 -85.240553\n",
       "1             6            10 -86.165199\n",
       "2             6            15 -86.452301\n",
       "3             8             5 -84.321239\n",
       "4             8            10 -85.377272\n",
       "5             8            15 -85.776705\n",
       "6            10             5 -83.760198\n",
       "7            10            10 -84.966825\n",
       "8            10            15 -85.458791\n",
       "9            12             5 -83.388771\n",
       "10           12            10 -84.412097\n",
       "11           12            15 -84.905780"
      ]
     },
     "execution_count": 347,
     "metadata": {},
     "output_type": "execute_result"
    }
   ],
   "source": [
    "df_rf_model_cv_results"
   ]
  },
  {
   "cell_type": "markdown",
   "metadata": {},
   "source": [
    "0\t6\t5\t-96.703221\n",
    "1\t6\t10\t-96.783254\n",
    "2\t6\t15\t-96.805609\n",
    "3\t8\t5\t-96.435436\n",
    "4\t8\t10\t-96.675338\n",
    "5\t8\t15\t-96.700477\n",
    "6\t10\t5\t-96.207550\n",
    "7\t10\t10\t-96.613786\n",
    "8\t10\t15\t-96.656862\n",
    "9\t12\t5\t-96.172876\n",
    "10\t12\t10\t-96.656606\n",
    "11\t12\t15\t-96.706496"
   ]
  },
  {
   "cell_type": "code",
   "execution_count": 348,
   "metadata": {},
   "outputs": [
    {
     "data": {
      "text/html": [
       "<div>\n",
       "<style scoped>\n",
       "    .dataframe tbody tr th:only-of-type {\n",
       "        vertical-align: middle;\n",
       "    }\n",
       "\n",
       "    .dataframe tbody tr th {\n",
       "        vertical-align: top;\n",
       "    }\n",
       "\n",
       "    .dataframe thead th {\n",
       "        text-align: right;\n",
       "    }\n",
       "</style>\n",
       "<table border=\"1\" class=\"dataframe\">\n",
       "  <thead>\n",
       "    <tr style=\"text-align: right;\">\n",
       "      <th>min node size</th>\n",
       "      <th>5</th>\n",
       "      <th>10</th>\n",
       "      <th>15</th>\n",
       "    </tr>\n",
       "    <tr>\n",
       "      <th>max features</th>\n",
       "      <th></th>\n",
       "      <th></th>\n",
       "      <th></th>\n",
       "    </tr>\n",
       "  </thead>\n",
       "  <tbody>\n",
       "    <tr>\n",
       "      <th>6</th>\n",
       "      <td>85.24</td>\n",
       "      <td>86.17</td>\n",
       "      <td>86.45</td>\n",
       "    </tr>\n",
       "    <tr>\n",
       "      <th>8</th>\n",
       "      <td>84.32</td>\n",
       "      <td>85.38</td>\n",
       "      <td>85.78</td>\n",
       "    </tr>\n",
       "    <tr>\n",
       "      <th>10</th>\n",
       "      <td>83.76</td>\n",
       "      <td>84.97</td>\n",
       "      <td>85.46</td>\n",
       "    </tr>\n",
       "    <tr>\n",
       "      <th>12</th>\n",
       "      <td>83.39</td>\n",
       "      <td>84.41</td>\n",
       "      <td>84.91</td>\n",
       "    </tr>\n",
       "  </tbody>\n",
       "</table>\n",
       "</div>"
      ],
      "text/plain": [
       "min node size     5      10     15\n",
       "max features                      \n",
       "6              85.24  86.17  86.45\n",
       "8              84.32  85.38  85.78\n",
       "10             83.76  84.97  85.46\n",
       "12             83.39  84.41  84.91"
      ]
     },
     "execution_count": 348,
     "metadata": {},
     "output_type": "execute_result"
    }
   ],
   "source": [
    "df_rf_model_cv_results.pivot(\n",
    "    index = 'max features', \n",
    "    columns = 'min node size', \n",
    "    values = 'RMSE').round(2)*-1"
   ]
  },
  {
   "cell_type": "code",
   "execution_count": 349,
   "metadata": {},
   "outputs": [
    {
     "data": {
      "text/plain": [
       "-83.38877104009332"
      ]
     },
     "execution_count": 349,
     "metadata": {},
     "output_type": "execute_result"
    }
   ],
   "source": [
    "rf_model.best_score_"
   ]
  },
  {
   "cell_type": "code",
   "execution_count": 350,
   "metadata": {},
   "outputs": [
    {
     "data": {
      "text/plain": [
       "{'max_features': 12, 'min_samples_leaf': 5}"
      ]
     },
     "execution_count": 350,
     "metadata": {},
     "output_type": "execute_result"
    }
   ],
   "source": [
    "rf_model.best_params_"
   ]
  },
  {
   "cell_type": "code",
   "execution_count": 351,
   "metadata": {},
   "outputs": [
    {
     "data": {
      "text/html": [
       "<style>#sk-container-id-10 {color: black;}#sk-container-id-10 pre{padding: 0;}#sk-container-id-10 div.sk-toggleable {background-color: white;}#sk-container-id-10 label.sk-toggleable__label {cursor: pointer;display: block;width: 100%;margin-bottom: 0;padding: 0.3em;box-sizing: border-box;text-align: center;}#sk-container-id-10 label.sk-toggleable__label-arrow:before {content: \"▸\";float: left;margin-right: 0.25em;color: #696969;}#sk-container-id-10 label.sk-toggleable__label-arrow:hover:before {color: black;}#sk-container-id-10 div.sk-estimator:hover label.sk-toggleable__label-arrow:before {color: black;}#sk-container-id-10 div.sk-toggleable__content {max-height: 0;max-width: 0;overflow: hidden;text-align: left;background-color: #f0f8ff;}#sk-container-id-10 div.sk-toggleable__content pre {margin: 0.2em;color: black;border-radius: 0.25em;background-color: #f0f8ff;}#sk-container-id-10 input.sk-toggleable__control:checked~div.sk-toggleable__content {max-height: 200px;max-width: 100%;overflow: auto;}#sk-container-id-10 input.sk-toggleable__control:checked~label.sk-toggleable__label-arrow:before {content: \"▾\";}#sk-container-id-10 div.sk-estimator input.sk-toggleable__control:checked~label.sk-toggleable__label {background-color: #d4ebff;}#sk-container-id-10 div.sk-label input.sk-toggleable__control:checked~label.sk-toggleable__label {background-color: #d4ebff;}#sk-container-id-10 input.sk-hidden--visually {border: 0;clip: rect(1px 1px 1px 1px);clip: rect(1px, 1px, 1px, 1px);height: 1px;margin: -1px;overflow: hidden;padding: 0;position: absolute;width: 1px;}#sk-container-id-10 div.sk-estimator {font-family: monospace;background-color: #f0f8ff;border: 1px dotted black;border-radius: 0.25em;box-sizing: border-box;margin-bottom: 0.5em;}#sk-container-id-10 div.sk-estimator:hover {background-color: #d4ebff;}#sk-container-id-10 div.sk-parallel-item::after {content: \"\";width: 100%;border-bottom: 1px solid gray;flex-grow: 1;}#sk-container-id-10 div.sk-label:hover label.sk-toggleable__label {background-color: #d4ebff;}#sk-container-id-10 div.sk-serial::before {content: \"\";position: absolute;border-left: 1px solid gray;box-sizing: border-box;top: 0;bottom: 0;left: 50%;z-index: 0;}#sk-container-id-10 div.sk-serial {display: flex;flex-direction: column;align-items: center;background-color: white;padding-right: 0.2em;padding-left: 0.2em;position: relative;}#sk-container-id-10 div.sk-item {position: relative;z-index: 1;}#sk-container-id-10 div.sk-parallel {display: flex;align-items: stretch;justify-content: center;background-color: white;position: relative;}#sk-container-id-10 div.sk-item::before, #sk-container-id-10 div.sk-parallel-item::before {content: \"\";position: absolute;border-left: 1px solid gray;box-sizing: border-box;top: 0;bottom: 0;left: 50%;z-index: -1;}#sk-container-id-10 div.sk-parallel-item {display: flex;flex-direction: column;z-index: 1;position: relative;background-color: white;}#sk-container-id-10 div.sk-parallel-item:first-child::after {align-self: flex-end;width: 50%;}#sk-container-id-10 div.sk-parallel-item:last-child::after {align-self: flex-start;width: 50%;}#sk-container-id-10 div.sk-parallel-item:only-child::after {width: 0;}#sk-container-id-10 div.sk-dashed-wrapped {border: 1px dashed gray;margin: 0 0.4em 0.5em 0.4em;box-sizing: border-box;padding-bottom: 0.4em;background-color: white;}#sk-container-id-10 div.sk-label label {font-family: monospace;font-weight: bold;display: inline-block;line-height: 1.2em;}#sk-container-id-10 div.sk-label-container {text-align: center;}#sk-container-id-10 div.sk-container {/* jupyter's `normalize.less` sets `[hidden] { display: none; }` but bootstrap.min.css set `[hidden] { display: none !important; }` so we also need the `!important` here to be able to override the default hidden behavior on the sphinx rendered scikit-learn.org. See: https://github.com/scikit-learn/scikit-learn/issues/21755 */display: inline-block !important;position: relative;}#sk-container-id-10 div.sk-text-repr-fallback {display: none;}</style><div id=\"sk-container-id-10\" class=\"sk-top-container\"><div class=\"sk-text-repr-fallback\"><pre>RandomForestRegressor(max_features=12, min_samples_leaf=5,\n",
       "                      random_state=20240211)</pre><b>In a Jupyter environment, please rerun this cell to show the HTML representation or trust the notebook. <br />On GitHub, the HTML representation is unable to render, please try loading this page with nbviewer.org.</b></div><div class=\"sk-container\" hidden><div class=\"sk-item\"><div class=\"sk-estimator sk-toggleable\"><input class=\"sk-toggleable__control sk-hidden--visually\" id=\"sk-estimator-id-22\" type=\"checkbox\" checked><label for=\"sk-estimator-id-22\" class=\"sk-toggleable__label sk-toggleable__label-arrow\">RandomForestRegressor</label><div class=\"sk-toggleable__content\"><pre>RandomForestRegressor(max_features=12, min_samples_leaf=5,\n",
       "                      random_state=20240211)</pre></div></div></div></div></div>"
      ],
      "text/plain": [
       "RandomForestRegressor(max_features=12, min_samples_leaf=5,\n",
       "                      random_state=20240211)"
      ]
     },
     "execution_count": 351,
     "metadata": {},
     "output_type": "execute_result"
    }
   ],
   "source": [
    "rf_model.best_estimator_"
   ]
  },
  {
   "cell_type": "code",
   "execution_count": 352,
   "metadata": {},
   "outputs": [
    {
     "data": {
      "text/plain": [
       "array([0.00000000e+00, 1.23941402e-04, 0.00000000e+00, 9.96647643e-06,\n",
       "       0.00000000e+00, 0.00000000e+00, 0.00000000e+00, 0.00000000e+00,\n",
       "       0.00000000e+00, 1.40153289e-03, 7.53342454e-04, 5.68887452e-05,\n",
       "       1.20798777e-03, 2.48882599e-02, 0.00000000e+00, 1.01631967e-02,\n",
       "       7.62434966e-06, 1.33103428e-02, 9.08096709e-03, 6.63561936e-03,\n",
       "       5.63677048e-05, 9.70892428e-03, 5.57054259e-05, 0.00000000e+00,\n",
       "       9.22750788e-07, 0.00000000e+00, 4.46231474e-04, 0.00000000e+00,\n",
       "       9.61179990e-05, 9.30166525e-05, 0.00000000e+00, 6.62085101e-04,\n",
       "       0.00000000e+00, 0.00000000e+00, 3.87097902e-04, 1.40649938e-03,\n",
       "       1.11053373e-02, 4.76501416e-04, 4.18716095e-06, 0.00000000e+00,\n",
       "       9.14375911e-04, 3.60178498e-02, 2.00001238e-04, 0.00000000e+00,\n",
       "       9.57241536e-04, 1.19941510e-03, 0.00000000e+00, 0.00000000e+00,\n",
       "       1.56996693e-03, 0.00000000e+00, 5.06573464e-05, 1.95380467e-03,\n",
       "       2.62153883e-05, 3.16562464e-04, 0.00000000e+00, 0.00000000e+00,\n",
       "       0.00000000e+00, 4.23518651e-04, 0.00000000e+00, 0.00000000e+00,\n",
       "       2.52857232e-04, 0.00000000e+00, 0.00000000e+00, 6.65002078e-04,\n",
       "       3.77103518e-02, 4.42438330e-03, 0.00000000e+00, 0.00000000e+00,\n",
       "       0.00000000e+00, 2.02577991e-02, 0.00000000e+00, 0.00000000e+00,\n",
       "       0.00000000e+00, 1.50413930e-03, 1.89087871e-03, 0.00000000e+00,\n",
       "       7.79162463e-05, 0.00000000e+00, 0.00000000e+00, 4.31379227e-06,\n",
       "       0.00000000e+00, 0.00000000e+00, 0.00000000e+00, 5.34827437e-03,\n",
       "       0.00000000e+00, 0.00000000e+00, 8.98979101e-04, 0.00000000e+00,\n",
       "       0.00000000e+00, 0.00000000e+00, 0.00000000e+00, 4.18361054e-03,\n",
       "       0.00000000e+00, 0.00000000e+00, 0.00000000e+00, 1.36956030e-02,\n",
       "       0.00000000e+00, 0.00000000e+00, 0.00000000e+00, 1.09914815e-05,\n",
       "       0.00000000e+00, 0.00000000e+00, 3.15535536e-06, 0.00000000e+00,\n",
       "       0.00000000e+00, 0.00000000e+00, 2.43053556e-04, 0.00000000e+00,\n",
       "       0.00000000e+00, 0.00000000e+00, 6.37995474e-03, 0.00000000e+00,\n",
       "       1.63149643e-05, 4.78742896e-05, 5.95343145e-05, 0.00000000e+00,\n",
       "       9.75191340e-06, 0.00000000e+00, 2.18851135e-04, 1.37230326e-03,\n",
       "       0.00000000e+00, 0.00000000e+00, 0.00000000e+00, 5.47358950e-06,\n",
       "       0.00000000e+00, 3.58358134e-04, 3.77140797e-02, 0.00000000e+00,\n",
       "       0.00000000e+00, 5.33494668e-04, 0.00000000e+00, 9.34834396e-04,\n",
       "       0.00000000e+00, 3.29189482e-03, 0.00000000e+00, 0.00000000e+00,\n",
       "       6.35734600e-05, 0.00000000e+00, 0.00000000e+00, 0.00000000e+00,\n",
       "       2.90207349e-05, 0.00000000e+00, 0.00000000e+00, 6.40267563e-03,\n",
       "       0.00000000e+00, 0.00000000e+00, 0.00000000e+00, 0.00000000e+00,\n",
       "       3.45830736e-05, 0.00000000e+00, 5.85022631e-04, 7.38241170e-04,\n",
       "       0.00000000e+00, 0.00000000e+00, 0.00000000e+00, 0.00000000e+00,\n",
       "       1.72790159e-05, 0.00000000e+00, 1.68270468e-04, 2.05379566e-06,\n",
       "       0.00000000e+00, 0.00000000e+00, 0.00000000e+00, 5.33608993e-03,\n",
       "       1.14294860e-05, 0.00000000e+00, 0.00000000e+00, 2.19401424e-03,\n",
       "       0.00000000e+00, 0.00000000e+00, 0.00000000e+00, 0.00000000e+00,\n",
       "       6.91062099e-05, 1.49949500e-03, 3.20227163e-04, 0.00000000e+00,\n",
       "       0.00000000e+00, 0.00000000e+00, 0.00000000e+00, 0.00000000e+00,\n",
       "       0.00000000e+00, 0.00000000e+00, 1.61400661e-05, 0.00000000e+00,\n",
       "       0.00000000e+00, 6.53814214e-02, 1.86694224e-03, 0.00000000e+00,\n",
       "       0.00000000e+00, 0.00000000e+00, 0.00000000e+00, 0.00000000e+00,\n",
       "       0.00000000e+00, 0.00000000e+00, 1.90189046e-01, 1.46206546e-01,\n",
       "       1.42299383e-01, 1.58687137e-01])"
      ]
     },
     "execution_count": 352,
     "metadata": {},
     "output_type": "execute_result"
    }
   ],
   "source": [
    "rf_model.best_estimator_.feature_importances_"
   ]
  },
  {
   "cell_type": "code",
   "execution_count": 353,
   "metadata": {},
   "outputs": [],
   "source": [
    "y_holdout, X_holdout = dmatrices(\"price ~ \" + \" + \".join(predictors_2), data_holdout)"
   ]
  },
  {
   "cell_type": "code",
   "execution_count": 354,
   "metadata": {},
   "outputs": [],
   "source": [
    "from sklearn.pipeline import Pipeline\n",
    "from sklearn.preprocessing import OneHotEncoder\n",
    "from sklearn.metrics import mean_squared_error\n",
    "from sklearn.compose import ColumnTransformer"
   ]
  },
  {
   "cell_type": "code",
   "execution_count": 355,
   "metadata": {},
   "outputs": [],
   "source": [
    "categorical_columns = [col for col in predictors_2 if col == \"property_type\" or col == \"room_type\" or col == \"neighbourhood_cleansed\"]\n",
    "numerical_columns = [col for col in predictors_2 if col not in categorical_columns]"
   ]
  },
  {
   "cell_type": "code",
   "execution_count": 356,
   "metadata": {},
   "outputs": [],
   "source": [
    "categorical_encoder = OneHotEncoder(handle_unknown=\"ignore\")\n",
    "\n",
    "preprocessing = ColumnTransformer([\n",
    "    (\"cat\", categorical_encoder, categorical_columns),\n",
    "    (\"num\", \"passthrough\", numerical_columns)])\n",
    "\n",
    "rf_pipeline = Pipeline(\n",
    "    [(\"preprocess\", preprocessing), \n",
    "     (\"regressor\", rf_model.best_estimator_)] # put best model to pipeline\n",
    ")"
   ]
  },
  {
   "cell_type": "code",
   "execution_count": 357,
   "metadata": {},
   "outputs": [],
   "source": [
    "# predictors_2 = ['accommodates','beds','property_type','room_type','neighbourhood_cleansed','number_of_reviews','review_scores_rating']"
   ]
  },
  {
   "cell_type": "code",
   "execution_count": 358,
   "metadata": {},
   "outputs": [
    {
     "name": "stdout",
     "output_type": "stream",
     "text": [
      "CPU times: user 729 ms, sys: 31.4 ms, total: 760 ms\n",
      "Wall time: 1.44 s\n"
     ]
    },
    {
     "data": {
      "text/html": [
       "<style>#sk-container-id-11 {color: black;}#sk-container-id-11 pre{padding: 0;}#sk-container-id-11 div.sk-toggleable {background-color: white;}#sk-container-id-11 label.sk-toggleable__label {cursor: pointer;display: block;width: 100%;margin-bottom: 0;padding: 0.3em;box-sizing: border-box;text-align: center;}#sk-container-id-11 label.sk-toggleable__label-arrow:before {content: \"▸\";float: left;margin-right: 0.25em;color: #696969;}#sk-container-id-11 label.sk-toggleable__label-arrow:hover:before {color: black;}#sk-container-id-11 div.sk-estimator:hover label.sk-toggleable__label-arrow:before {color: black;}#sk-container-id-11 div.sk-toggleable__content {max-height: 0;max-width: 0;overflow: hidden;text-align: left;background-color: #f0f8ff;}#sk-container-id-11 div.sk-toggleable__content pre {margin: 0.2em;color: black;border-radius: 0.25em;background-color: #f0f8ff;}#sk-container-id-11 input.sk-toggleable__control:checked~div.sk-toggleable__content {max-height: 200px;max-width: 100%;overflow: auto;}#sk-container-id-11 input.sk-toggleable__control:checked~label.sk-toggleable__label-arrow:before {content: \"▾\";}#sk-container-id-11 div.sk-estimator input.sk-toggleable__control:checked~label.sk-toggleable__label {background-color: #d4ebff;}#sk-container-id-11 div.sk-label input.sk-toggleable__control:checked~label.sk-toggleable__label {background-color: #d4ebff;}#sk-container-id-11 input.sk-hidden--visually {border: 0;clip: rect(1px 1px 1px 1px);clip: rect(1px, 1px, 1px, 1px);height: 1px;margin: -1px;overflow: hidden;padding: 0;position: absolute;width: 1px;}#sk-container-id-11 div.sk-estimator {font-family: monospace;background-color: #f0f8ff;border: 1px dotted black;border-radius: 0.25em;box-sizing: border-box;margin-bottom: 0.5em;}#sk-container-id-11 div.sk-estimator:hover {background-color: #d4ebff;}#sk-container-id-11 div.sk-parallel-item::after {content: \"\";width: 100%;border-bottom: 1px solid gray;flex-grow: 1;}#sk-container-id-11 div.sk-label:hover label.sk-toggleable__label {background-color: #d4ebff;}#sk-container-id-11 div.sk-serial::before {content: \"\";position: absolute;border-left: 1px solid gray;box-sizing: border-box;top: 0;bottom: 0;left: 50%;z-index: 0;}#sk-container-id-11 div.sk-serial {display: flex;flex-direction: column;align-items: center;background-color: white;padding-right: 0.2em;padding-left: 0.2em;position: relative;}#sk-container-id-11 div.sk-item {position: relative;z-index: 1;}#sk-container-id-11 div.sk-parallel {display: flex;align-items: stretch;justify-content: center;background-color: white;position: relative;}#sk-container-id-11 div.sk-item::before, #sk-container-id-11 div.sk-parallel-item::before {content: \"\";position: absolute;border-left: 1px solid gray;box-sizing: border-box;top: 0;bottom: 0;left: 50%;z-index: -1;}#sk-container-id-11 div.sk-parallel-item {display: flex;flex-direction: column;z-index: 1;position: relative;background-color: white;}#sk-container-id-11 div.sk-parallel-item:first-child::after {align-self: flex-end;width: 50%;}#sk-container-id-11 div.sk-parallel-item:last-child::after {align-self: flex-start;width: 50%;}#sk-container-id-11 div.sk-parallel-item:only-child::after {width: 0;}#sk-container-id-11 div.sk-dashed-wrapped {border: 1px dashed gray;margin: 0 0.4em 0.5em 0.4em;box-sizing: border-box;padding-bottom: 0.4em;background-color: white;}#sk-container-id-11 div.sk-label label {font-family: monospace;font-weight: bold;display: inline-block;line-height: 1.2em;}#sk-container-id-11 div.sk-label-container {text-align: center;}#sk-container-id-11 div.sk-container {/* jupyter's `normalize.less` sets `[hidden] { display: none; }` but bootstrap.min.css set `[hidden] { display: none !important; }` so we also need the `!important` here to be able to override the default hidden behavior on the sphinx rendered scikit-learn.org. See: https://github.com/scikit-learn/scikit-learn/issues/21755 */display: inline-block !important;position: relative;}#sk-container-id-11 div.sk-text-repr-fallback {display: none;}</style><div id=\"sk-container-id-11\" class=\"sk-top-container\"><div class=\"sk-text-repr-fallback\"><pre>Pipeline(steps=[(&#x27;preprocess&#x27;,\n",
       "                 ColumnTransformer(transformers=[(&#x27;cat&#x27;,\n",
       "                                                  OneHotEncoder(handle_unknown=&#x27;ignore&#x27;),\n",
       "                                                  [&#x27;property_type&#x27;, &#x27;room_type&#x27;,\n",
       "                                                   &#x27;neighbourhood_cleansed&#x27;]),\n",
       "                                                 (&#x27;num&#x27;, &#x27;passthrough&#x27;,\n",
       "                                                  [&#x27;accommodates&#x27;, &#x27;beds&#x27;,\n",
       "                                                   &#x27;number_of_reviews&#x27;,\n",
       "                                                   &#x27;review_scores_rating&#x27;])])),\n",
       "                (&#x27;regressor&#x27;,\n",
       "                 RandomForestRegressor(max_features=12, min_samples_leaf=5,\n",
       "                                       random_state=20240211))])</pre><b>In a Jupyter environment, please rerun this cell to show the HTML representation or trust the notebook. <br />On GitHub, the HTML representation is unable to render, please try loading this page with nbviewer.org.</b></div><div class=\"sk-container\" hidden><div class=\"sk-item sk-dashed-wrapped\"><div class=\"sk-label-container\"><div class=\"sk-label sk-toggleable\"><input class=\"sk-toggleable__control sk-hidden--visually\" id=\"sk-estimator-id-23\" type=\"checkbox\" ><label for=\"sk-estimator-id-23\" class=\"sk-toggleable__label sk-toggleable__label-arrow\">Pipeline</label><div class=\"sk-toggleable__content\"><pre>Pipeline(steps=[(&#x27;preprocess&#x27;,\n",
       "                 ColumnTransformer(transformers=[(&#x27;cat&#x27;,\n",
       "                                                  OneHotEncoder(handle_unknown=&#x27;ignore&#x27;),\n",
       "                                                  [&#x27;property_type&#x27;, &#x27;room_type&#x27;,\n",
       "                                                   &#x27;neighbourhood_cleansed&#x27;]),\n",
       "                                                 (&#x27;num&#x27;, &#x27;passthrough&#x27;,\n",
       "                                                  [&#x27;accommodates&#x27;, &#x27;beds&#x27;,\n",
       "                                                   &#x27;number_of_reviews&#x27;,\n",
       "                                                   &#x27;review_scores_rating&#x27;])])),\n",
       "                (&#x27;regressor&#x27;,\n",
       "                 RandomForestRegressor(max_features=12, min_samples_leaf=5,\n",
       "                                       random_state=20240211))])</pre></div></div></div><div class=\"sk-serial\"><div class=\"sk-item sk-dashed-wrapped\"><div class=\"sk-label-container\"><div class=\"sk-label sk-toggleable\"><input class=\"sk-toggleable__control sk-hidden--visually\" id=\"sk-estimator-id-24\" type=\"checkbox\" ><label for=\"sk-estimator-id-24\" class=\"sk-toggleable__label sk-toggleable__label-arrow\">preprocess: ColumnTransformer</label><div class=\"sk-toggleable__content\"><pre>ColumnTransformer(transformers=[(&#x27;cat&#x27;, OneHotEncoder(handle_unknown=&#x27;ignore&#x27;),\n",
       "                                 [&#x27;property_type&#x27;, &#x27;room_type&#x27;,\n",
       "                                  &#x27;neighbourhood_cleansed&#x27;]),\n",
       "                                (&#x27;num&#x27;, &#x27;passthrough&#x27;,\n",
       "                                 [&#x27;accommodates&#x27;, &#x27;beds&#x27;, &#x27;number_of_reviews&#x27;,\n",
       "                                  &#x27;review_scores_rating&#x27;])])</pre></div></div></div><div class=\"sk-parallel\"><div class=\"sk-parallel-item\"><div class=\"sk-item\"><div class=\"sk-label-container\"><div class=\"sk-label sk-toggleable\"><input class=\"sk-toggleable__control sk-hidden--visually\" id=\"sk-estimator-id-25\" type=\"checkbox\" ><label for=\"sk-estimator-id-25\" class=\"sk-toggleable__label sk-toggleable__label-arrow\">cat</label><div class=\"sk-toggleable__content\"><pre>[&#x27;property_type&#x27;, &#x27;room_type&#x27;, &#x27;neighbourhood_cleansed&#x27;]</pre></div></div></div><div class=\"sk-serial\"><div class=\"sk-item\"><div class=\"sk-estimator sk-toggleable\"><input class=\"sk-toggleable__control sk-hidden--visually\" id=\"sk-estimator-id-26\" type=\"checkbox\" ><label for=\"sk-estimator-id-26\" class=\"sk-toggleable__label sk-toggleable__label-arrow\">OneHotEncoder</label><div class=\"sk-toggleable__content\"><pre>OneHotEncoder(handle_unknown=&#x27;ignore&#x27;)</pre></div></div></div></div></div></div><div class=\"sk-parallel-item\"><div class=\"sk-item\"><div class=\"sk-label-container\"><div class=\"sk-label sk-toggleable\"><input class=\"sk-toggleable__control sk-hidden--visually\" id=\"sk-estimator-id-27\" type=\"checkbox\" ><label for=\"sk-estimator-id-27\" class=\"sk-toggleable__label sk-toggleable__label-arrow\">num</label><div class=\"sk-toggleable__content\"><pre>[&#x27;accommodates&#x27;, &#x27;beds&#x27;, &#x27;number_of_reviews&#x27;, &#x27;review_scores_rating&#x27;]</pre></div></div></div><div class=\"sk-serial\"><div class=\"sk-item\"><div class=\"sk-estimator sk-toggleable\"><input class=\"sk-toggleable__control sk-hidden--visually\" id=\"sk-estimator-id-28\" type=\"checkbox\" ><label for=\"sk-estimator-id-28\" class=\"sk-toggleable__label sk-toggleable__label-arrow\">passthrough</label><div class=\"sk-toggleable__content\"><pre>passthrough</pre></div></div></div></div></div></div></div></div><div class=\"sk-item\"><div class=\"sk-estimator sk-toggleable\"><input class=\"sk-toggleable__control sk-hidden--visually\" id=\"sk-estimator-id-29\" type=\"checkbox\" ><label for=\"sk-estimator-id-29\" class=\"sk-toggleable__label sk-toggleable__label-arrow\">RandomForestRegressor</label><div class=\"sk-toggleable__content\"><pre>RandomForestRegressor(max_features=12, min_samples_leaf=5,\n",
       "                      random_state=20240211)</pre></div></div></div></div></div></div></div>"
      ],
      "text/plain": [
       "Pipeline(steps=[('preprocess',\n",
       "                 ColumnTransformer(transformers=[('cat',\n",
       "                                                  OneHotEncoder(handle_unknown='ignore'),\n",
       "                                                  ['property_type', 'room_type',\n",
       "                                                   'neighbourhood_cleansed']),\n",
       "                                                 ('num', 'passthrough',\n",
       "                                                  ['accommodates', 'beds',\n",
       "                                                   'number_of_reviews',\n",
       "                                                   'review_scores_rating'])])),\n",
       "                ('regressor',\n",
       "                 RandomForestRegressor(max_features=12, min_samples_leaf=5,\n",
       "                                       random_state=20240211))])"
      ]
     },
     "execution_count": 358,
     "metadata": {},
     "output_type": "execute_result"
    }
   ],
   "source": [
    "%%time\n",
    "rf_pipeline.fit(data_train[predictors_2],data_train.price)"
   ]
  },
  {
   "cell_type": "code",
   "execution_count": 359,
   "metadata": {},
   "outputs": [],
   "source": [
    "data_holdout_w_prediction = data_holdout.assign(\n",
    "    predicted_price=rf_pipeline.predict(data_holdout[predictors_2])\n",
    ")"
   ]
  },
  {
   "cell_type": "code",
   "execution_count": 360,
   "metadata": {},
   "outputs": [
    {
     "data": {
      "text/html": [
       "<div>\n",
       "<style scoped>\n",
       "    .dataframe tbody tr th:only-of-type {\n",
       "        vertical-align: middle;\n",
       "    }\n",
       "\n",
       "    .dataframe tbody tr th {\n",
       "        vertical-align: top;\n",
       "    }\n",
       "\n",
       "    .dataframe thead th {\n",
       "        text-align: right;\n",
       "    }\n",
       "</style>\n",
       "<table border=\"1\" class=\"dataframe\">\n",
       "  <thead>\n",
       "    <tr style=\"text-align: right;\">\n",
       "      <th></th>\n",
       "      <th>rmse</th>\n",
       "      <th>mean_price</th>\n",
       "      <th>rmse_norm</th>\n",
       "    </tr>\n",
       "  </thead>\n",
       "  <tbody>\n",
       "    <tr>\n",
       "      <th>Total</th>\n",
       "      <td>62.09</td>\n",
       "      <td>80.09</td>\n",
       "      <td>0.78</td>\n",
       "    </tr>\n",
       "  </tbody>\n",
       "</table>\n",
       "</div>"
      ],
      "text/plain": [
       "        rmse  mean_price  rmse_norm\n",
       "Total  62.09       80.09       0.78"
      ]
     },
     "execution_count": 360,
     "metadata": {},
     "output_type": "execute_result"
    }
   ],
   "source": [
    "all_holdout = pd.DataFrame(\n",
    "    [\n",
    "        mean_squared_error(\n",
    "            data_holdout_w_prediction.price,\n",
    "            data_holdout_w_prediction.predicted_price,\n",
    "            squared=False,\n",
    "        ),\n",
    "        data_holdout_w_prediction.price.mean(),\n",
    "    ],\n",
    "    index=[\"rmse\", \"mean_price\"],\n",
    ").T.assign(rmse_norm=lambda x: x.rmse / x.mean_price).round(2)\n",
    "all_holdout.index = [\"Total\"]\n",
    "\n",
    "all_holdout"
   ]
  },
  {
   "cell_type": "markdown",
   "metadata": {},
   "source": [
    "# OLS"
   ]
  },
  {
   "cell_type": "code",
   "execution_count": 368,
   "metadata": {},
   "outputs": [
    {
     "data": {
      "text/plain": [
       "90.13535869925323"
      ]
     },
     "execution_count": 368,
     "metadata": {},
     "output_type": "execute_result"
    }
   ],
   "source": [
    "y, X = dmatrices(\"price ~ \" + \" + \".join(predictors_2), data_train)\n",
    "\n",
    "ols_model = LinearRegression().fit(X,y)\n",
    "\n",
    "y_test, X_test = dmatrices(\"price ~ \" + \" + \".join(predictors_2), data_holdout)\n",
    "\n",
    "y_hat = ols_model.predict(X)\n",
    "\n",
    "ols_rmse = mean_squared_error(y,y_hat,squared=False)\n",
    "ols_rmse"
   ]
  },
  {
   "cell_type": "markdown",
   "metadata": {},
   "source": [
    "# LASSO"
   ]
  },
  {
   "cell_type": "code",
   "execution_count": 369,
   "metadata": {},
   "outputs": [],
   "source": [
    "from sklearn.linear_model import ElasticNet"
   ]
  },
  {
   "cell_type": "code",
   "execution_count": 370,
   "metadata": {},
   "outputs": [],
   "source": [
    "lasso_model =  ElasticNet(l1_ratio = 1, fit_intercept = True)"
   ]
  },
  {
   "cell_type": "code",
   "execution_count": 371,
   "metadata": {},
   "outputs": [],
   "source": [
    "lasso_model_cv = GridSearchCV(\n",
    "    lasso_model,\n",
    "    {\"alpha\":[i/100 for i in range(5, 26, 5)]},\n",
    "    cv=5,\n",
    "    scoring=\"neg_root_mean_squared_error\",\n",
    "    verbose=3,\n",
    ")"
   ]
  },
  {
   "cell_type": "code",
   "execution_count": 372,
   "metadata": {},
   "outputs": [],
   "source": [
    "y, X = dmatrices(\"price ~ \" + \" + \".join(predictors_2), data_train)"
   ]
  },
  {
   "cell_type": "code",
   "execution_count": 373,
   "metadata": {},
   "outputs": [
    {
     "name": "stdout",
     "output_type": "stream",
     "text": [
      "Fitting 5 folds for each of 5 candidates, totalling 25 fits\n",
      "[CV 1/5] END .....................alpha=0.05;, score=-102.511 total time=   0.4s\n",
      "[CV 2/5] END ......................alpha=0.05;, score=-51.223 total time=   0.1s\n",
      "[CV 3/5] END ......................alpha=0.05;, score=-52.496 total time=   0.1s\n",
      "[CV 4/5] END ......................alpha=0.05;, score=-62.735 total time=   0.4s\n",
      "[CV 5/5] END .....................alpha=0.05;, score=-147.916 total time=   0.1s\n",
      "[CV 1/5] END ......................alpha=0.1;, score=-102.402 total time=   0.0s\n",
      "[CV 2/5] END .......................alpha=0.1;, score=-51.501 total time=   0.0s\n",
      "[CV 3/5] END .......................alpha=0.1;, score=-52.437 total time=   0.1s\n",
      "[CV 4/5] END .......................alpha=0.1;, score=-62.943 total time=   0.1s\n",
      "[CV 5/5] END ......................alpha=0.1;, score=-147.911 total time=   0.1s\n",
      "[CV 1/5] END .....................alpha=0.15;, score=-102.427 total time=   0.1s\n",
      "[CV 2/5] END ......................alpha=0.15;, score=-51.725 total time=   0.0s\n",
      "[CV 3/5] END ......................alpha=0.15;, score=-52.434 total time=   0.0s\n",
      "[CV 4/5] END ......................alpha=0.15;, score=-63.233 total time=   0.0s\n",
      "[CV 5/5] END .....................alpha=0.15;, score=-147.941 total time=   0.0s\n",
      "[CV 1/5] END ......................alpha=0.2;, score=-102.467 total time=   0.1s\n",
      "[CV 2/5] END .......................alpha=0.2;, score=-51.967 total time=   0.1s\n",
      "[CV 3/5] END .......................alpha=0.2;, score=-52.580 total time=   0.0s\n",
      "[CV 4/5] END .......................alpha=0.2;, score=-63.544 total time=   0.1s\n",
      "[CV 5/5] END ......................alpha=0.2;, score=-148.028 total time=   0.0s\n",
      "[CV 1/5] END .....................alpha=0.25;, score=-102.544 total time=   0.0s\n",
      "[CV 2/5] END ......................alpha=0.25;, score=-52.196 total time=   0.0s\n",
      "[CV 3/5] END ......................alpha=0.25;, score=-52.854 total time=   0.0s\n",
      "[CV 4/5] END ......................alpha=0.25;, score=-63.883 total time=   0.1s\n",
      "[CV 5/5] END .....................alpha=0.25;, score=-148.117 total time=   0.1s\n",
      "CPU times: user 1.66 s, sys: 525 ms, total: 2.18 s\n",
      "Wall time: 2.67 s\n"
     ]
    },
    {
     "data": {
      "text/html": [
       "<style>#sk-container-id-12 {color: black;}#sk-container-id-12 pre{padding: 0;}#sk-container-id-12 div.sk-toggleable {background-color: white;}#sk-container-id-12 label.sk-toggleable__label {cursor: pointer;display: block;width: 100%;margin-bottom: 0;padding: 0.3em;box-sizing: border-box;text-align: center;}#sk-container-id-12 label.sk-toggleable__label-arrow:before {content: \"▸\";float: left;margin-right: 0.25em;color: #696969;}#sk-container-id-12 label.sk-toggleable__label-arrow:hover:before {color: black;}#sk-container-id-12 div.sk-estimator:hover label.sk-toggleable__label-arrow:before {color: black;}#sk-container-id-12 div.sk-toggleable__content {max-height: 0;max-width: 0;overflow: hidden;text-align: left;background-color: #f0f8ff;}#sk-container-id-12 div.sk-toggleable__content pre {margin: 0.2em;color: black;border-radius: 0.25em;background-color: #f0f8ff;}#sk-container-id-12 input.sk-toggleable__control:checked~div.sk-toggleable__content {max-height: 200px;max-width: 100%;overflow: auto;}#sk-container-id-12 input.sk-toggleable__control:checked~label.sk-toggleable__label-arrow:before {content: \"▾\";}#sk-container-id-12 div.sk-estimator input.sk-toggleable__control:checked~label.sk-toggleable__label {background-color: #d4ebff;}#sk-container-id-12 div.sk-label input.sk-toggleable__control:checked~label.sk-toggleable__label {background-color: #d4ebff;}#sk-container-id-12 input.sk-hidden--visually {border: 0;clip: rect(1px 1px 1px 1px);clip: rect(1px, 1px, 1px, 1px);height: 1px;margin: -1px;overflow: hidden;padding: 0;position: absolute;width: 1px;}#sk-container-id-12 div.sk-estimator {font-family: monospace;background-color: #f0f8ff;border: 1px dotted black;border-radius: 0.25em;box-sizing: border-box;margin-bottom: 0.5em;}#sk-container-id-12 div.sk-estimator:hover {background-color: #d4ebff;}#sk-container-id-12 div.sk-parallel-item::after {content: \"\";width: 100%;border-bottom: 1px solid gray;flex-grow: 1;}#sk-container-id-12 div.sk-label:hover label.sk-toggleable__label {background-color: #d4ebff;}#sk-container-id-12 div.sk-serial::before {content: \"\";position: absolute;border-left: 1px solid gray;box-sizing: border-box;top: 0;bottom: 0;left: 50%;z-index: 0;}#sk-container-id-12 div.sk-serial {display: flex;flex-direction: column;align-items: center;background-color: white;padding-right: 0.2em;padding-left: 0.2em;position: relative;}#sk-container-id-12 div.sk-item {position: relative;z-index: 1;}#sk-container-id-12 div.sk-parallel {display: flex;align-items: stretch;justify-content: center;background-color: white;position: relative;}#sk-container-id-12 div.sk-item::before, #sk-container-id-12 div.sk-parallel-item::before {content: \"\";position: absolute;border-left: 1px solid gray;box-sizing: border-box;top: 0;bottom: 0;left: 50%;z-index: -1;}#sk-container-id-12 div.sk-parallel-item {display: flex;flex-direction: column;z-index: 1;position: relative;background-color: white;}#sk-container-id-12 div.sk-parallel-item:first-child::after {align-self: flex-end;width: 50%;}#sk-container-id-12 div.sk-parallel-item:last-child::after {align-self: flex-start;width: 50%;}#sk-container-id-12 div.sk-parallel-item:only-child::after {width: 0;}#sk-container-id-12 div.sk-dashed-wrapped {border: 1px dashed gray;margin: 0 0.4em 0.5em 0.4em;box-sizing: border-box;padding-bottom: 0.4em;background-color: white;}#sk-container-id-12 div.sk-label label {font-family: monospace;font-weight: bold;display: inline-block;line-height: 1.2em;}#sk-container-id-12 div.sk-label-container {text-align: center;}#sk-container-id-12 div.sk-container {/* jupyter's `normalize.less` sets `[hidden] { display: none; }` but bootstrap.min.css set `[hidden] { display: none !important; }` so we also need the `!important` here to be able to override the default hidden behavior on the sphinx rendered scikit-learn.org. See: https://github.com/scikit-learn/scikit-learn/issues/21755 */display: inline-block !important;position: relative;}#sk-container-id-12 div.sk-text-repr-fallback {display: none;}</style><div id=\"sk-container-id-12\" class=\"sk-top-container\"><div class=\"sk-text-repr-fallback\"><pre>GridSearchCV(cv=5, estimator=ElasticNet(l1_ratio=1),\n",
       "             param_grid={&#x27;alpha&#x27;: [0.05, 0.1, 0.15, 0.2, 0.25]},\n",
       "             scoring=&#x27;neg_root_mean_squared_error&#x27;, verbose=3)</pre><b>In a Jupyter environment, please rerun this cell to show the HTML representation or trust the notebook. <br />On GitHub, the HTML representation is unable to render, please try loading this page with nbviewer.org.</b></div><div class=\"sk-container\" hidden><div class=\"sk-item sk-dashed-wrapped\"><div class=\"sk-label-container\"><div class=\"sk-label sk-toggleable\"><input class=\"sk-toggleable__control sk-hidden--visually\" id=\"sk-estimator-id-30\" type=\"checkbox\" ><label for=\"sk-estimator-id-30\" class=\"sk-toggleable__label sk-toggleable__label-arrow\">GridSearchCV</label><div class=\"sk-toggleable__content\"><pre>GridSearchCV(cv=5, estimator=ElasticNet(l1_ratio=1),\n",
       "             param_grid={&#x27;alpha&#x27;: [0.05, 0.1, 0.15, 0.2, 0.25]},\n",
       "             scoring=&#x27;neg_root_mean_squared_error&#x27;, verbose=3)</pre></div></div></div><div class=\"sk-parallel\"><div class=\"sk-parallel-item\"><div class=\"sk-item\"><div class=\"sk-label-container\"><div class=\"sk-label sk-toggleable\"><input class=\"sk-toggleable__control sk-hidden--visually\" id=\"sk-estimator-id-31\" type=\"checkbox\" ><label for=\"sk-estimator-id-31\" class=\"sk-toggleable__label sk-toggleable__label-arrow\">estimator: ElasticNet</label><div class=\"sk-toggleable__content\"><pre>ElasticNet(l1_ratio=1)</pre></div></div></div><div class=\"sk-serial\"><div class=\"sk-item\"><div class=\"sk-estimator sk-toggleable\"><input class=\"sk-toggleable__control sk-hidden--visually\" id=\"sk-estimator-id-32\" type=\"checkbox\" ><label for=\"sk-estimator-id-32\" class=\"sk-toggleable__label sk-toggleable__label-arrow\">ElasticNet</label><div class=\"sk-toggleable__content\"><pre>ElasticNet(l1_ratio=1)</pre></div></div></div></div></div></div></div></div></div></div>"
      ],
      "text/plain": [
       "GridSearchCV(cv=5, estimator=ElasticNet(l1_ratio=1),\n",
       "             param_grid={'alpha': [0.05, 0.1, 0.15, 0.2, 0.25]},\n",
       "             scoring='neg_root_mean_squared_error', verbose=3)"
      ]
     },
     "execution_count": 373,
     "metadata": {},
     "output_type": "execute_result"
    }
   ],
   "source": [
    "%%time\n",
    "lasso_model_cv.fit(X, y.ravel())"
   ]
  },
  {
   "cell_type": "code",
   "execution_count": 374,
   "metadata": {},
   "outputs": [
    {
     "data": {
      "text/plain": [
       "83.37626925962692"
      ]
     },
     "execution_count": 374,
     "metadata": {},
     "output_type": "execute_result"
    }
   ],
   "source": [
    "lasso_rmse = pd.DataFrame(lasso_model_cv.cv_results_).loc[\n",
    "    lambda x: x.param_alpha == lasso_model_cv.best_estimator_.alpha\n",
    "].mean_test_score.values[0] * -1\n",
    "lasso_rmse"
   ]
  },
  {
   "cell_type": "code",
   "execution_count": 375,
   "metadata": {},
   "outputs": [
    {
     "data": {
      "text/html": [
       "<div>\n",
       "<style scoped>\n",
       "    .dataframe tbody tr th:only-of-type {\n",
       "        vertical-align: middle;\n",
       "    }\n",
       "\n",
       "    .dataframe tbody tr th {\n",
       "        vertical-align: top;\n",
       "    }\n",
       "\n",
       "    .dataframe thead th {\n",
       "        text-align: right;\n",
       "    }\n",
       "</style>\n",
       "<table border=\"1\" class=\"dataframe\">\n",
       "  <thead>\n",
       "    <tr style=\"text-align: right;\">\n",
       "      <th></th>\n",
       "      <th>model</th>\n",
       "      <th>CV RMSE</th>\n",
       "    </tr>\n",
       "  </thead>\n",
       "  <tbody>\n",
       "    <tr>\n",
       "      <th>0</th>\n",
       "      <td>OLS</td>\n",
       "      <td>90.135359</td>\n",
       "    </tr>\n",
       "    <tr>\n",
       "      <th>1</th>\n",
       "      <td>LASSO</td>\n",
       "      <td>83.376269</td>\n",
       "    </tr>\n",
       "    <tr>\n",
       "      <th>2</th>\n",
       "      <td>random forest</td>\n",
       "      <td>62.090000</td>\n",
       "    </tr>\n",
       "  </tbody>\n",
       "</table>\n",
       "</div>"
      ],
      "text/plain": [
       "           model    CV RMSE\n",
       "0            OLS  90.135359\n",
       "1          LASSO  83.376269\n",
       "2  random forest  62.090000"
      ]
     },
     "execution_count": 375,
     "metadata": {},
     "output_type": "execute_result"
    }
   ],
   "source": [
    "pd.DataFrame({'model': ['OLS', 'LASSO', 'random forest'],\n",
    "              'CV RMSE': [ols_rmse, lasso_rmse, all_holdout.rmse[0]]})"
   ]
  }
 ],
 "metadata": {
  "kernelspec": {
   "display_name": "Python 3",
   "language": "python",
   "name": "python3"
  },
  "language_info": {
   "codemirror_mode": {
    "name": "ipython",
    "version": 3
   },
   "file_extension": ".py",
   "mimetype": "text/x-python",
   "name": "python",
   "nbconvert_exporter": "python",
   "pygments_lexer": "ipython3",
   "version": "3.10.3"
  },
  "orig_nbformat": 4
 },
 "nbformat": 4,
 "nbformat_minor": 2
}
